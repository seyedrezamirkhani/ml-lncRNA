{
 "cells": [
  {
   "cell_type": "code",
   "execution_count": 1,
   "id": "d5f66b56-c558-4ba0-8870-4b733b83129e",
   "metadata": {},
   "outputs": [],
   "source": [
    "import pandas as pd"
   ]
  },
  {
   "cell_type": "code",
   "execution_count": 2,
   "id": "e041d409-c5c2-44c7-822a-fb1f2deb1eb8",
   "metadata": {},
   "outputs": [],
   "source": [
    "DATA_FOLDER = '../../data/'"
   ]
  },
  {
   "cell_type": "code",
   "execution_count": 3,
   "id": "5d9dd2d1-28f9-4cd1-8728-be327298dbf5",
   "metadata": {},
   "outputs": [],
   "source": [
    "organizations_df = pd.read_parquet(f'{DATA_FOLDER}organizations.parquet')"
   ]
  },
  {
   "cell_type": "code",
   "execution_count": 4,
   "id": "5e60959d-cc52-4545-afb8-9b3eac6c4cab",
   "metadata": {},
   "outputs": [
    {
     "data": {
      "text/html": [
       "<div>\n",
       "<style scoped>\n",
       "    .dataframe tbody tr th:only-of-type {\n",
       "        vertical-align: middle;\n",
       "    }\n",
       "\n",
       "    .dataframe tbody tr th {\n",
       "        vertical-align: top;\n",
       "    }\n",
       "\n",
       "    .dataframe thead th {\n",
       "        text-align: right;\n",
       "    }\n",
       "</style>\n",
       "<table border=\"1\" class=\"dataframe\">\n",
       "  <thead>\n",
       "    <tr style=\"text-align: right;\">\n",
       "      <th></th>\n",
       "      <th>organization</th>\n",
       "    </tr>\n",
       "  </thead>\n",
       "  <tbody>\n",
       "    <tr>\n",
       "      <th>0</th>\n",
       "      <td>Biomedical Informatics</td>\n",
       "    </tr>\n",
       "    <tr>\n",
       "      <th>1</th>\n",
       "      <td>Shandong University</td>\n",
       "    </tr>\n",
       "    <tr>\n",
       "      <th>2</th>\n",
       "      <td>Tianjin University</td>\n",
       "    </tr>\n",
       "    <tr>\n",
       "      <th>3</th>\n",
       "      <td>Tsinghua University</td>\n",
       "    </tr>\n",
       "    <tr>\n",
       "      <th>4</th>\n",
       "      <td>City University of Hong Kong</td>\n",
       "    </tr>\n",
       "    <tr>\n",
       "      <th>...</th>\n",
       "      <td>...</td>\n",
       "    </tr>\n",
       "    <tr>\n",
       "      <th>105</th>\n",
       "      <td>Data Scientist</td>\n",
       "    </tr>\n",
       "    <tr>\n",
       "      <th>106</th>\n",
       "      <td>Amazon.com</td>\n",
       "    </tr>\n",
       "    <tr>\n",
       "      <th>107</th>\n",
       "      <td>Biostatistics, University of Michigan</td>\n",
       "    </tr>\n",
       "    <tr>\n",
       "      <th>108</th>\n",
       "      <td>Computer Science and Engineeing</td>\n",
       "    </tr>\n",
       "    <tr>\n",
       "      <th>109</th>\n",
       "      <td>Monash University</td>\n",
       "    </tr>\n",
       "  </tbody>\n",
       "</table>\n",
       "<p>110 rows × 1 columns</p>\n",
       "</div>"
      ],
      "text/plain": [
       "                              organization\n",
       "0                   Biomedical Informatics\n",
       "1                      Shandong University\n",
       "2                       Tianjin University\n",
       "3                      Tsinghua University\n",
       "4             City University of Hong Kong\n",
       "..                                     ...\n",
       "105                         Data Scientist\n",
       "106                             Amazon.com\n",
       "107  Biostatistics, University of Michigan\n",
       "108        Computer Science and Engineeing\n",
       "109                      Monash University\n",
       "\n",
       "[110 rows x 1 columns]"
      ]
     },
     "execution_count": 4,
     "metadata": {},
     "output_type": "execute_result"
    }
   ],
   "source": [
    "organizations_df"
   ]
  },
  {
   "cell_type": "code",
   "execution_count": 7,
   "id": "640d2a87-b9c9-41c7-83ae-0586cb0e5951",
   "metadata": {},
   "outputs": [],
   "source": [
    "def search_papers(query, limit=5):\n",
    "    search_query = scholarly.search_pubs(query)\n",
    "    papers = []\n",
    "\n",
    "    for _ in range(limit):\n",
    "        try:\n",
    "            paper = next(search_query)\n",
    "                        \n",
    "            papers.append({\n",
    "                \"title\": paper.get(\"bib\", {}).get(\"title\"),\n",
    "                \"abstract\": paper.get(\"bib\", {}).get(\"abstract\"),\n",
    "                \"year\": paper.get(\"bib\", {}).get(\"pub_year\"),\n",
    "                \"url\": paper.get(\"eprint_url\", \"Unknown\"),\n",
    "                \"author_id\": paper.get(\"author_id\", [])\n",
    "            })\n",
    "        except StopIteration:\n",
    "            break\n",
    "        except Exception as e:\n",
    "            print(f\"Error processing paper : {e}\")\n",
    "            continue\n",
    "\n",
    "    return papers"
   ]
  },
  {
   "cell_type": "code",
   "execution_count": 27,
   "id": "aee742da-c232-4d7a-8631-fe95f6246419",
   "metadata": {},
   "outputs": [],
   "source": [
    "def search_authors(papers):\n",
    "    author_ids = list()\n",
    "    authors = list()\n",
    "    for paper in papers:\n",
    "        print\n",
    "        if len(author_ids) > 10:\n",
    "            break\n",
    "        if \"author_id\" in paper:\n",
    "            for author_id in paper[\"author_id\"]:\n",
    "                if author_id: # check the author_id is not empty\n",
    "                    #time.sleep(2)  # Introduce delay\n",
    "                    if author_id not in author_ids: # avoids duplicate searches                        \n",
    "                        try:\n",
    "                            print(f'Searching for author with id {author_id}...')\n",
    "                            author = scholarly.search_author_id(author_id)\n",
    "                            #author = scholarly.fill(scholarly.search_author_id(author_id), sections=['basics'])\n",
    "                            authors.append({\n",
    "                                \"author_id\": author_id,\n",
    "                                \"name\": author.get(\"name\"),\n",
    "                                \"affiliation\": author.get(\"affiliation\", \"Unknown\")\n",
    "                            })\n",
    "                            author_ids.append(author_id)\n",
    "                        except Exception as e:\n",
    "                            print(f\"Error processing author with id {author_id}: {e}\")\n",
    "    return authors"
   ]
  },
  {
   "cell_type": "markdown",
   "id": "8186f49a-0f0f-42be-a021-1c01be34c3e2",
   "metadata": {},
   "source": [
    "# Lookup and store geolocations"
   ]
  },
  {
   "cell_type": "code",
   "execution_count": 14,
   "id": "65119f45-9c8a-4974-9dcf-4aa2be29630e",
   "metadata": {},
   "outputs": [],
   "source": [
    "import geopandas as gpd\n",
    "import folium\n",
    "from geopy.geocoders import Nominatim\n",
    "\n",
    "geolocator = Nominatim(user_agent=\"lncRNA-map\")\n",
    "\n",
    "# https://geopy.readthedocs.io/en/stable/#geopy.geocoders.options.default_timeout\n",
    "from geopy.extra.rate_limiter import RateLimiter\n",
    "geocode = RateLimiter(geolocator.geocode, min_delay_seconds=2)"
   ]
  },
  {
   "cell_type": "code",
   "execution_count": 15,
   "id": "58fbf8bd-0108-4f49-8b1b-a62e51ac6010",
   "metadata": {},
   "outputs": [],
   "source": [
    "from tqdm import tqdm"
   ]
  },
  {
   "cell_type": "code",
   "execution_count": 16,
   "id": "a0eff5a6-8c89-4eca-95ac-ffae6db32f02",
   "metadata": {},
   "outputs": [
    {
     "name": "stderr",
     "output_type": "stream",
     "text": [
      "100%|████████████████████████████████████████████████████████████████████████████████████| 110/110 [03:38<00:00,  1.98s/it]\n"
     ]
    }
   ],
   "source": [
    "tqdm.pandas()\n",
    "organizations_df['location'] = organizations_df['organization'].progress_apply(geocode)"
   ]
  },
  {
   "cell_type": "code",
   "execution_count": 34,
   "id": "e09786c9-242b-407c-9b8c-fd1118e74675",
   "metadata": {},
   "outputs": [],
   "source": [
    "organizations_df.to_pickle(f'{DATA_FOLDER}organizations_with_location.pickle')"
   ]
  }
 ],
 "metadata": {
  "kernelspec": {
   "display_name": "Python 3 (ipykernel)",
   "language": "python",
   "name": "python3"
  },
  "language_info": {
   "codemirror_mode": {
    "name": "ipython",
    "version": 3
   },
   "file_extension": ".py",
   "mimetype": "text/x-python",
   "name": "python",
   "nbconvert_exporter": "python",
   "pygments_lexer": "ipython3",
   "version": "3.12.2"
  }
 },
 "nbformat": 4,
 "nbformat_minor": 5
}
