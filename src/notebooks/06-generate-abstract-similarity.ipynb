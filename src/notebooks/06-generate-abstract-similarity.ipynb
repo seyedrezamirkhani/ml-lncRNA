{
 "cells": [
  {
   "cell_type": "code",
   "execution_count": null,
   "id": "9ef99d80-60a5-4134-ac34-76cd98cad16e",
   "metadata": {},
   "outputs": [],
   "source": [
    "import pickle\n",
    "import spacy\n",
    "import pandas as pd\n",
    "import numpy as np\n",
    "import seaborn as sns\n",
    "import matplotlib.pyplot as plt\n",
    "from sklearn.manifold import TSNE\n",
    "import networkx as nx"
   ]
  },
  {
   "cell_type": "code",
   "execution_count": null,
   "id": "4ef41095-38ec-407f-bc11-ca3205b263a8",
   "metadata": {},
   "outputs": [],
   "source": [
    "DATA_FOLDER = '../../data/'"
   ]
  },
  {
   "cell_type": "code",
   "execution_count": null,
   "id": "0b1983c3-ea72-4595-b227-531d5781d856",
   "metadata": {},
   "outputs": [],
   "source": [
    "with open(f'{DATA_FOLDER}papers.pickle', 'rb') as handle:\n",
    "    papers = pickle.load(handle)"
   ]
  },
  {
   "cell_type": "code",
   "execution_count": null,
   "id": "92351b7f-7024-4922-86ce-fd1001a194af",
   "metadata": {},
   "outputs": [],
   "source": [
    "papers_df = pd.DataFrame.from_dict(papers)"
   ]
  },
  {
   "cell_type": "code",
   "execution_count": null,
   "id": "c1537493-3058-44ae-9860-fc1a009ddba5",
   "metadata": {},
   "outputs": [],
   "source": [
    "papers_df"
   ]
  },
  {
   "cell_type": "code",
   "execution_count": null,
   "id": "cc13b5f7-a071-4c16-89ab-c12995b5be61",
   "metadata": {},
   "outputs": [],
   "source": [
    "papers_df['paper_id'] = np.arange(0, len(papers_df))"
   ]
  },
  {
   "cell_type": "code",
   "execution_count": null,
   "id": "921f62e8-e869-43a3-a3f2-a3cf359ff5e5",
   "metadata": {},
   "outputs": [],
   "source": [
    "papers_df = papers_df.dropna(subset=['abstract'])  # Remove entries with missing abstracts"
   ]
  },
  {
   "cell_type": "code",
   "execution_count": null,
   "id": "4c92b977-918e-4b09-8b42-722da1b89185",
   "metadata": {},
   "outputs": [],
   "source": [
    "# Extract abstracts and identifiers\n",
    "abstracts = papers_df['abstract'].tolist()\n",
    "paper_ids = papers_df['paper_id'].tolist()"
   ]
  },
  {
   "cell_type": "code",
   "execution_count": null,
   "id": "ba59c90d-6fff-4a02-991d-bfb5caee208a",
   "metadata": {},
   "outputs": [],
   "source": [
    "# Load spaCy model\n",
    "nlp = spacy.load(\"en_core_web_md\")"
   ]
  },
  {
   "cell_type": "code",
   "execution_count": null,
   "id": "0e8720a2-7de1-4435-9ed5-a35e02a44968",
   "metadata": {},
   "outputs": [],
   "source": [
    "# Compute similarity matrix\n",
    "docs = [nlp(abstract) for abstract in abstracts]\n",
    "n = len(docs)\n",
    "similarity_matrix = np.zeros((n, n))"
   ]
  },
  {
   "cell_type": "code",
   "execution_count": null,
   "id": "d180ecf3-1696-4ec4-8a04-848b3cad9d20",
   "metadata": {},
   "outputs": [],
   "source": [
    "for i in range(n):\n",
    "    for j in range(n):\n",
    "        similarity_matrix[i, j] = docs[i].similarity(docs[j])\n"
   ]
  },
  {
   "cell_type": "code",
   "execution_count": null,
   "id": "a5ff23f4-666a-41c0-9687-0f07de72f828",
   "metadata": {},
   "outputs": [],
   "source": [
    "# Visualize: Heatmap\n",
    "plt.figure(figsize=(10, 8))\n",
    "sns.heatmap(similarity_matrix, xticklabels=paper_ids, yticklabels=paper_ids, cmap=\"viridis\")\n",
    "plt.title(\"Abstract Similarity Heatmap\")\n",
    "plt.xlabel(\"Paper ID\")\n",
    "plt.ylabel(\"Paper ID\")\n",
    "plt.show()"
   ]
  },
  {
   "cell_type": "code",
   "execution_count": null,
   "id": "ea5bcd4c-c307-4cfd-8292-96f186b5270b",
   "metadata": {},
   "outputs": [],
   "source": [
    "# Visualize: Graph\n",
    "threshold = 0.7  # Adjust threshold as needed\n",
    "G = nx.Graph()\n",
    "\n",
    "# Add nodes with paper IDs\n",
    "for paper_id in paper_ids:\n",
    "    G.add_node(paper_id)\n",
    "\n",
    "# Add edges based on similarity threshold\n",
    "for i in range(n):\n",
    "    for j in range(i + 1, n):\n",
    "        if similarity_matrix[i, j] > threshold:\n",
    "            G.add_edge(paper_ids[i], paper_ids[j], weight=similarity_matrix[i, j])\n",
    "\n",
    "# Draw the graph\n",
    "pos = nx.spring_layout(G)\n",
    "nx.draw(G, pos, with_labels=True, labels={pid: pid for pid in paper_ids},\n",
    "        node_color=\"lightblue\", node_size=500, font_size=10)\n",
    "plt.title(\"Abstract Similarity Graph\")\n",
    "plt.show()"
   ]
  },
  {
   "cell_type": "code",
   "execution_count": null,
   "id": "8fc8b24e-3007-4bd8-975a-b057e4f86a10",
   "metadata": {},
   "outputs": [],
   "source": [
    "# Visualize: Dimensionality Reduction with Annotations\n",
    "tsne = TSNE(n_components=2, random_state=42)\n",
    "tsne_results = tsne.fit_transform(similarity_matrix)\n",
    "\n",
    "plt.figure(figsize=(12, 8))\n",
    "sns.scatterplot(x=tsne_results[:, 0], y=tsne_results[:, 1], s=100, color='pink')\n",
    "\n",
    "# Annotate points with paper_id\n",
    "for i, paper_id in enumerate(paper_ids):\n",
    "    plt.text(tsne_results[i, 0] + 0.04, tsne_results[i, 1] + 0.04,  # Offset for readability\n",
    "             str(paper_id), fontsize=9, ha='center', va='center')\n",
    "\n",
    "plt.title(\"Abstract Similarity (t-SNE Projection)\")\n",
    "plt.xlabel(\"t-SNE Dimension 1\")\n",
    "plt.ylabel(\"t-SNE Dimension 2\")\n",
    "plt.show()"
   ]
  },
  {
   "cell_type": "markdown",
   "id": "527e30d9-2ed5-466b-bf36-19e0190d2b57",
   "metadata": {},
   "source": [
    "# Using Plotly for Interactive Graph Visualization"
   ]
  },
  {
   "cell_type": "code",
   "execution_count": null,
   "id": "d1dae276-925c-4c3a-8f58-324c0eac69a1",
   "metadata": {},
   "outputs": [],
   "source": [
    "import plotly.graph_objects as go\n",
    "import networkx as nx\n",
    "\n",
    "# Create a graph\n",
    "threshold = 0.7  # Adjust threshold as needed\n",
    "G = nx.Graph()\n",
    "\n",
    "# Add nodes with paper IDs\n",
    "for paper_id in paper_ids:\n",
    "    G.add_node(paper_id, label=str(paper_id))\n",
    "\n",
    "# Add edges based on similarity threshold\n",
    "for i in range(n):\n",
    "    for j in range(i + 1, n):\n",
    "        if similarity_matrix[i, j] > threshold:\n",
    "            G.add_edge(paper_ids[i], paper_ids[j], weight=similarity_matrix[i, j])\n",
    "\n",
    "# Get node positions\n",
    "pos = nx.spring_layout(G)\n",
    "\n",
    "# Prepare data for Plotly\n",
    "edge_x = []\n",
    "edge_y = []\n",
    "for edge in G.edges():\n",
    "    x0, y0 = pos[edge[0]]\n",
    "    x1, y1 = pos[edge[1]]\n",
    "    edge_x.append(x0)\n",
    "    edge_x.append(x1)\n",
    "    edge_x.append(None)\n",
    "    edge_y.append(y0)\n",
    "    edge_y.append(y1)\n",
    "    edge_y.append(None)\n",
    "\n",
    "edge_trace = go.Scatter(\n",
    "    x=edge_x, y=edge_y,\n",
    "    line=dict(width=0.5, color='#888'),\n",
    "    hoverinfo='none',\n",
    "    mode='lines'\n",
    ")\n",
    "\n",
    "node_x = []\n",
    "node_y = []\n",
    "node_labels = []\n",
    "for node in G.nodes():\n",
    "    x, y = pos[node]\n",
    "    node_x.append(x)\n",
    "    node_y.append(y)\n",
    "    node_labels.append(f\"Paper ID: {node}\")\n",
    "\n",
    "node_trace = go.Scatter(\n",
    "    x=node_x, y=node_y,\n",
    "    mode='markers+text',\n",
    "    text=node_labels,\n",
    "    textposition=\"top center\",\n",
    "    hoverinfo='text',\n",
    "    marker=dict(\n",
    "        color='blue',\n",
    "        size=10,\n",
    "        line=dict(width=2)\n",
    "    )\n",
    ")\n",
    "\n",
    "# Create Plotly Figure\n",
    "fig = go.Figure(data=[edge_trace, node_trace],\n",
    "                layout=go.Layout(\n",
    "                    title=\"Abstract Similarity Graph\",\n",
    "                    titlefont_size=16,\n",
    "                    showlegend=False,\n",
    "                    hovermode='closest',\n",
    "                    margin=dict(b=0, l=0, r=0, t=40),\n",
    "                    xaxis=dict(showgrid=False, zeroline=False),\n",
    "                    yaxis=dict(showgrid=False, zeroline=False))\n",
    "                )\n",
    "\n",
    "fig.show()\n"
   ]
  },
  {
   "cell_type": "markdown",
   "id": "2653f8fa-b0db-4275-9e5a-d15a700e2fc8",
   "metadata": {},
   "source": [
    "# Using PyVis for Interactive Graph Visualization\n"
   ]
  },
  {
   "cell_type": "code",
   "execution_count": null,
   "id": "fa1e1641-930e-4624-bdaf-1e0083d4ef79",
   "metadata": {},
   "outputs": [],
   "source": [
    "from pyvis.network import Network\n",
    "\n",
    "# Create a PyVis network\n",
    "net = Network(notebook=True, height=\"800px\", width=\"100%\", bgcolor=\"#222222\", font_color=\"white\")\n",
    "\n",
    "# Add nodes with labels\n",
    "for node in G.nodes(data=True):\n",
    "    net.add_node(node[0], label=str(node[0]), title=f\"Paper ID: {node[0]}\", color=\"lightblue\")\n",
    "\n",
    "# Add edges with weights\n",
    "for edge in G.edges(data=True):\n",
    "    net.add_edge(edge[0], edge[1], value=edge[2]['weight'])\n",
    "\n",
    "# Customize layout\n",
    "net.force_atlas_2based()\n",
    "net.show_buttons(filter_=['physics'])\n",
    "net.show(\"similarity_graph.html\")"
   ]
  },
  {
   "cell_type": "code",
   "execution_count": null,
   "id": "2b7ee1f2-f92e-41d9-81e0-4c1e411c7291",
   "metadata": {},
   "outputs": [],
   "source": []
  }
 ],
 "metadata": {
  "kernelspec": {
   "display_name": "Python 3 (ipykernel)",
   "language": "python",
   "name": "python3"
  },
  "language_info": {
   "codemirror_mode": {
    "name": "ipython",
    "version": 3
   },
   "file_extension": ".py",
   "mimetype": "text/x-python",
   "name": "python",
   "nbconvert_exporter": "python",
   "pygments_lexer": "ipython3",
   "version": "3.12.2"
  }
 },
 "nbformat": 4,
 "nbformat_minor": 5
}
