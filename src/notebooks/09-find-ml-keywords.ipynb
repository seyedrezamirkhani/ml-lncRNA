{
 "cells": [
  {
   "cell_type": "code",
   "execution_count": 2,
   "id": "de4028b5-0817-451a-a4a5-97139e5fd3de",
   "metadata": {},
   "outputs": [],
   "source": [
    "import pandas as pd"
   ]
  },
  {
   "cell_type": "code",
   "execution_count": 4,
   "id": "cff926e1-2f6e-402f-ae41-35bdb400fd7a",
   "metadata": {},
   "outputs": [],
   "source": [
    "ROOT_FOLDER = '../../'"
   ]
  },
  {
   "cell_type": "code",
   "execution_count": 29,
   "id": "51370296-6d37-4310-a92d-11d0999fb605",
   "metadata": {},
   "outputs": [],
   "source": [
    "DATA_FOLDER = '../../data/'"
   ]
  },
  {
   "cell_type": "code",
   "execution_count": 35,
   "id": "b4b899a7-16b4-4e27-8d1d-5049c3de355c",
   "metadata": {},
   "outputs": [],
   "source": [
    "DOWNLOAD_FOLDER = '../../downloads/'"
   ]
  },
  {
   "cell_type": "code",
   "execution_count": 30,
   "id": "7257aa1c-09f4-44d5-bd17-b91da75e3946",
   "metadata": {},
   "outputs": [],
   "source": [
    "downloaded_files_df = pd.read_parquet(f'{DATA_FOLDER}downloaded_files_df.parquet')"
   ]
  },
  {
   "cell_type": "code",
   "execution_count": 31,
   "id": "f6144753-29a3-4d66-875e-3f71d42e9ce8",
   "metadata": {},
   "outputs": [
    {
     "data": {
      "text/html": [
       "<div>\n",
       "<style scoped>\n",
       "    .dataframe tbody tr th:only-of-type {\n",
       "        vertical-align: middle;\n",
       "    }\n",
       "\n",
       "    .dataframe tbody tr th {\n",
       "        vertical-align: top;\n",
       "    }\n",
       "\n",
       "    .dataframe thead th {\n",
       "        text-align: right;\n",
       "    }\n",
       "</style>\n",
       "<table border=\"1\" class=\"dataframe\">\n",
       "  <thead>\n",
       "    <tr style=\"text-align: right;\">\n",
       "      <th></th>\n",
       "      <th>title</th>\n",
       "      <th>file_name</th>\n",
       "    </tr>\n",
       "  </thead>\n",
       "  <tbody>\n",
       "    <tr>\n",
       "      <th>0</th>\n",
       "      <td>LncMachine: a machine learning algorithm for l...</td>\n",
       "      <td>51807917-91f3-4b8f-8ad4-e1c5c923432e.pdf</td>\n",
       "    </tr>\n",
       "    <tr>\n",
       "      <th>1</th>\n",
       "      <td>DMFLDA: a deep learning framework for predicti...</td>\n",
       "      <td>92c4c16b-1cc5-49b0-8ff3-09182bfb02fc.pdf</td>\n",
       "    </tr>\n",
       "    <tr>\n",
       "      <th>2</th>\n",
       "      <td>Evaluation of deep learning in non-coding RNA ...</td>\n",
       "      <td>d320ce0f-7cd8-4afa-8ec7-baad93b09505.pdf</td>\n",
       "    </tr>\n",
       "  </tbody>\n",
       "</table>\n",
       "</div>"
      ],
      "text/plain": [
       "                                               title  \\\n",
       "0  LncMachine: a machine learning algorithm for l...   \n",
       "1  DMFLDA: a deep learning framework for predicti...   \n",
       "2  Evaluation of deep learning in non-coding RNA ...   \n",
       "\n",
       "                                  file_name  \n",
       "0  51807917-91f3-4b8f-8ad4-e1c5c923432e.pdf  \n",
       "1  92c4c16b-1cc5-49b0-8ff3-09182bfb02fc.pdf  \n",
       "2  d320ce0f-7cd8-4afa-8ec7-baad93b09505.pdf  "
      ]
     },
     "execution_count": 31,
     "metadata": {},
     "output_type": "execute_result"
    }
   ],
   "source": [
    "downloaded_files_df"
   ]
  },
  {
   "cell_type": "code",
   "execution_count": 15,
   "id": "8004a615-17e4-41b1-aaeb-7003e61361be",
   "metadata": {},
   "outputs": [],
   "source": [
    "model_df = pd.read_excel(f'{ROOT_FOLDER}ML-Model-Categorization.ods', sheet_name='Sheet1', usecols=['MODEL'])"
   ]
  },
  {
   "cell_type": "code",
   "execution_count": 16,
   "id": "06307f5d-845a-4be6-aec9-263804d5142d",
   "metadata": {},
   "outputs": [
    {
     "data": {
      "text/html": [
       "<div>\n",
       "<style scoped>\n",
       "    .dataframe tbody tr th:only-of-type {\n",
       "        vertical-align: middle;\n",
       "    }\n",
       "\n",
       "    .dataframe tbody tr th {\n",
       "        vertical-align: top;\n",
       "    }\n",
       "\n",
       "    .dataframe thead th {\n",
       "        text-align: right;\n",
       "    }\n",
       "</style>\n",
       "<table border=\"1\" class=\"dataframe\">\n",
       "  <thead>\n",
       "    <tr style=\"text-align: right;\">\n",
       "      <th></th>\n",
       "      <th>MODEL</th>\n",
       "    </tr>\n",
       "  </thead>\n",
       "  <tbody>\n",
       "    <tr>\n",
       "      <th>0</th>\n",
       "      <td>Linear Regression</td>\n",
       "    </tr>\n",
       "    <tr>\n",
       "      <th>1</th>\n",
       "      <td>Polynomial Regression</td>\n",
       "    </tr>\n",
       "    <tr>\n",
       "      <th>2</th>\n",
       "      <td>Ridge Regression</td>\n",
       "    </tr>\n",
       "    <tr>\n",
       "      <th>3</th>\n",
       "      <td>Lasso Regression</td>\n",
       "    </tr>\n",
       "    <tr>\n",
       "      <th>4</th>\n",
       "      <td>Elastic Net Regression</td>\n",
       "    </tr>\n",
       "    <tr>\n",
       "      <th>...</th>\n",
       "      <td>...</td>\n",
       "    </tr>\n",
       "    <tr>\n",
       "      <th>97</th>\n",
       "      <td>Claude</td>\n",
       "    </tr>\n",
       "    <tr>\n",
       "      <th>98</th>\n",
       "      <td>LLaMA</td>\n",
       "    </tr>\n",
       "    <tr>\n",
       "      <th>99</th>\n",
       "      <td>Contrastive Language-Image Pretraining</td>\n",
       "    </tr>\n",
       "    <tr>\n",
       "      <th>100</th>\n",
       "      <td>DALL-E</td>\n",
       "    </tr>\n",
       "    <tr>\n",
       "      <th>101</th>\n",
       "      <td>Stable Diffusion</td>\n",
       "    </tr>\n",
       "  </tbody>\n",
       "</table>\n",
       "<p>102 rows × 1 columns</p>\n",
       "</div>"
      ],
      "text/plain": [
       "                                      MODEL\n",
       "0                         Linear Regression\n",
       "1                     Polynomial Regression\n",
       "2                          Ridge Regression\n",
       "3                          Lasso Regression\n",
       "4                    Elastic Net Regression\n",
       "..                                      ...\n",
       "97                                   Claude\n",
       "98                                    LLaMA\n",
       "99   Contrastive Language-Image Pretraining\n",
       "100                                  DALL-E\n",
       "101                        Stable Diffusion\n",
       "\n",
       "[102 rows x 1 columns]"
      ]
     },
     "execution_count": 16,
     "metadata": {},
     "output_type": "execute_result"
    }
   ],
   "source": [
    "model_df"
   ]
  },
  {
   "cell_type": "markdown",
   "id": "60c43e2f-46d7-42e8-9b50-dd5cfb8fba13",
   "metadata": {},
   "source": [
    "The model column has duplicate values since each model can be applied to multiple categories; we just need the unique list here"
   ]
  },
  {
   "cell_type": "code",
   "execution_count": 23,
   "id": "0e6875b5-54ed-4852-a685-70bc435997f8",
   "metadata": {},
   "outputs": [],
   "source": [
    "model_df.drop_duplicates(inplace=True)"
   ]
  },
  {
   "cell_type": "code",
   "execution_count": 24,
   "id": "8606596c-285f-485f-95b1-01c21db36111",
   "metadata": {},
   "outputs": [
    {
     "data": {
      "text/html": [
       "<div>\n",
       "<style scoped>\n",
       "    .dataframe tbody tr th:only-of-type {\n",
       "        vertical-align: middle;\n",
       "    }\n",
       "\n",
       "    .dataframe tbody tr th {\n",
       "        vertical-align: top;\n",
       "    }\n",
       "\n",
       "    .dataframe thead th {\n",
       "        text-align: right;\n",
       "    }\n",
       "</style>\n",
       "<table border=\"1\" class=\"dataframe\">\n",
       "  <thead>\n",
       "    <tr style=\"text-align: right;\">\n",
       "      <th></th>\n",
       "      <th>MODEL</th>\n",
       "    </tr>\n",
       "  </thead>\n",
       "  <tbody>\n",
       "    <tr>\n",
       "      <th>0</th>\n",
       "      <td>Linear Regression</td>\n",
       "    </tr>\n",
       "    <tr>\n",
       "      <th>1</th>\n",
       "      <td>Polynomial Regression</td>\n",
       "    </tr>\n",
       "    <tr>\n",
       "      <th>2</th>\n",
       "      <td>Ridge Regression</td>\n",
       "    </tr>\n",
       "    <tr>\n",
       "      <th>3</th>\n",
       "      <td>Lasso Regression</td>\n",
       "    </tr>\n",
       "    <tr>\n",
       "      <th>4</th>\n",
       "      <td>Elastic Net Regression</td>\n",
       "    </tr>\n",
       "    <tr>\n",
       "      <th>...</th>\n",
       "      <td>...</td>\n",
       "    </tr>\n",
       "    <tr>\n",
       "      <th>96</th>\n",
       "      <td>ChatGPT</td>\n",
       "    </tr>\n",
       "    <tr>\n",
       "      <th>97</th>\n",
       "      <td>Claude</td>\n",
       "    </tr>\n",
       "    <tr>\n",
       "      <th>98</th>\n",
       "      <td>LLaMA</td>\n",
       "    </tr>\n",
       "    <tr>\n",
       "      <th>99</th>\n",
       "      <td>Contrastive Language-Image Pretraining</td>\n",
       "    </tr>\n",
       "    <tr>\n",
       "      <th>100</th>\n",
       "      <td>DALL-E</td>\n",
       "    </tr>\n",
       "  </tbody>\n",
       "</table>\n",
       "<p>99 rows × 1 columns</p>\n",
       "</div>"
      ],
      "text/plain": [
       "                                      MODEL\n",
       "0                         Linear Regression\n",
       "1                     Polynomial Regression\n",
       "2                          Ridge Regression\n",
       "3                          Lasso Regression\n",
       "4                    Elastic Net Regression\n",
       "..                                      ...\n",
       "96                                  ChatGPT\n",
       "97                                   Claude\n",
       "98                                    LLaMA\n",
       "99   Contrastive Language-Image Pretraining\n",
       "100                                  DALL-E\n",
       "\n",
       "[99 rows x 1 columns]"
      ]
     },
     "execution_count": 24,
     "metadata": {},
     "output_type": "execute_result"
    }
   ],
   "source": [
    "model_df"
   ]
  },
  {
   "cell_type": "code",
   "execution_count": 27,
   "id": "631b3770-b38a-463b-a7e0-153eb9ef700e",
   "metadata": {},
   "outputs": [
    {
     "name": "stdout",
     "output_type": "stream",
     "text": [
      "Matched model: Logistic Regression\n",
      "Matched model: Support Vector Machines\n",
      "Matched model: Random Forests\n",
      "Matched model: Neural Networks\n"
     ]
    }
   ],
   "source": [
    "import spacy\n",
    "from spacy.matcher import PhraseMatcher\n",
    "\n",
    "# Load spaCy's language model\n",
    "nlp = spacy.load(\"en_core_web_sm\")\n",
    "\n",
    "# Define a list of machine learning model names\n",
    "model_names = model_df['MODEL'].values.tolist()\n",
    "\n",
    "# Initialize PhraseMatcher\n",
    "matcher = PhraseMatcher(nlp.vocab)\n",
    "\n",
    "# Add model names as patterns\n",
    "patterns = [nlp.make_doc(name) for name in model_names]\n",
    "matcher.add(\"ML_MODELS\", patterns)\n",
    "\n",
    "# Process the academic text\n",
    "text = \"\"\"\n",
    "In this paper, we compare the performance of Logistic Regression, Support Vector Machines, \n",
    "and Random Forests on several datasets. Furthermore, we explore the use of Artificial Neural Networks.\n",
    "\"\"\"\n",
    "doc = nlp(text)\n",
    "\n",
    "# Find matches\n",
    "matches = matcher(doc)\n",
    "\n",
    "# Highlight matches in the text\n",
    "for match_id, start, end in matches:\n",
    "    span = doc[start:end]\n",
    "    print(f\"Matched model: {span.text}\")\n"
   ]
  },
  {
   "cell_type": "code",
   "execution_count": 39,
   "id": "d89a5c8a-9d5e-441e-b5f4-aaf60d521f2d",
   "metadata": {},
   "outputs": [],
   "source": [
    "downloaded_files_df['pdf_file_path'] = DOWNLOAD_FOLDER + downloaded_files_df['file_name']"
   ]
  },
  {
   "cell_type": "code",
   "execution_count": 40,
   "id": "5766f8bc-51a5-458a-b53a-c71c13cfa4b0",
   "metadata": {},
   "outputs": [
    {
     "data": {
      "text/html": [
       "<div>\n",
       "<style scoped>\n",
       "    .dataframe tbody tr th:only-of-type {\n",
       "        vertical-align: middle;\n",
       "    }\n",
       "\n",
       "    .dataframe tbody tr th {\n",
       "        vertical-align: top;\n",
       "    }\n",
       "\n",
       "    .dataframe thead th {\n",
       "        text-align: right;\n",
       "    }\n",
       "</style>\n",
       "<table border=\"1\" class=\"dataframe\">\n",
       "  <thead>\n",
       "    <tr style=\"text-align: right;\">\n",
       "      <th></th>\n",
       "      <th>title</th>\n",
       "      <th>file_name</th>\n",
       "      <th>pdf_file_path</th>\n",
       "    </tr>\n",
       "  </thead>\n",
       "  <tbody>\n",
       "    <tr>\n",
       "      <th>0</th>\n",
       "      <td>LncMachine: a machine learning algorithm for l...</td>\n",
       "      <td>51807917-91f3-4b8f-8ad4-e1c5c923432e.pdf</td>\n",
       "      <td>../../downloads/51807917-91f3-4b8f-8ad4-e1c5c9...</td>\n",
       "    </tr>\n",
       "    <tr>\n",
       "      <th>1</th>\n",
       "      <td>DMFLDA: a deep learning framework for predicti...</td>\n",
       "      <td>92c4c16b-1cc5-49b0-8ff3-09182bfb02fc.pdf</td>\n",
       "      <td>../../downloads/92c4c16b-1cc5-49b0-8ff3-09182b...</td>\n",
       "    </tr>\n",
       "    <tr>\n",
       "      <th>2</th>\n",
       "      <td>Evaluation of deep learning in non-coding RNA ...</td>\n",
       "      <td>d320ce0f-7cd8-4afa-8ec7-baad93b09505.pdf</td>\n",
       "      <td>../../downloads/d320ce0f-7cd8-4afa-8ec7-baad93...</td>\n",
       "    </tr>\n",
       "  </tbody>\n",
       "</table>\n",
       "</div>"
      ],
      "text/plain": [
       "                                               title  \\\n",
       "0  LncMachine: a machine learning algorithm for l...   \n",
       "1  DMFLDA: a deep learning framework for predicti...   \n",
       "2  Evaluation of deep learning in non-coding RNA ...   \n",
       "\n",
       "                                  file_name  \\\n",
       "0  51807917-91f3-4b8f-8ad4-e1c5c923432e.pdf   \n",
       "1  92c4c16b-1cc5-49b0-8ff3-09182bfb02fc.pdf   \n",
       "2  d320ce0f-7cd8-4afa-8ec7-baad93b09505.pdf   \n",
       "\n",
       "                                       pdf_file_path  \n",
       "0  ../../downloads/51807917-91f3-4b8f-8ad4-e1c5c9...  \n",
       "1  ../../downloads/92c4c16b-1cc5-49b0-8ff3-09182b...  \n",
       "2  ../../downloads/d320ce0f-7cd8-4afa-8ec7-baad93...  "
      ]
     },
     "execution_count": 40,
     "metadata": {},
     "output_type": "execute_result"
    }
   ],
   "source": [
    "downloaded_files_df"
   ]
  },
  {
   "cell_type": "code",
   "execution_count": 33,
   "id": "28244180-e432-44e5-94b8-e1f27373109e",
   "metadata": {},
   "outputs": [],
   "source": [
    "import spacy\n",
    "import PyPDF2\n",
    "\n",
    "# Load spaCy language model\n",
    "nlp = spacy.load(\"en_core_web_sm\")\n",
    "\n",
    "# List of terms to search\n",
    "search_terms = model_df['MODEL'].values.tolist()\n",
    "\n",
    "# Create a spaCy matcher for the search terms\n",
    "from spacy.matcher import PhraseMatcher\n",
    "matcher = PhraseMatcher(nlp.vocab)\n",
    "patterns = [nlp.make_doc(term) for term in search_terms]\n",
    "matcher.add(\"SearchTerms\", patterns)\n"
   ]
  },
  {
   "cell_type": "code",
   "execution_count": 46,
   "id": "9bb05bef-76cd-484f-a1af-4c2393ec55fb",
   "metadata": {},
   "outputs": [],
   "source": [
    "def search_in_file(matcher, search_terms, pdf_file_path):\n",
    "    # Dictionary to store results\n",
    "    search_results = {term: [] for term in search_terms}\n",
    "    \n",
    "    # Extract text from PDF\n",
    "    with open(pdf_file_path, \"rb\") as pdf_file:\n",
    "        pdf_reader = PyPDF2.PdfReader(pdf_file)\n",
    "        for page_num, page in enumerate(pdf_reader.pages):\n",
    "            # Extract text from the page\n",
    "            text = page.extract_text()\n",
    "            if text:\n",
    "                # Use spaCy to process the text\n",
    "                doc = nlp(text)\n",
    "                \n",
    "                # Search for terms using the matcher\n",
    "                matches = matcher(doc)\n",
    "                for match_id, start, end in matches:\n",
    "                    term = doc[start:end].text\n",
    "                    search_results[term].append(page_num + 1)  # Store page number (1-indexed)\n",
    "    \n",
    "    # Display search results\n",
    "    for term, pages in search_results.items():\n",
    "        if pages:\n",
    "            print(f\"'{term}' found on page(s): {pages}\")\n",
    "        #else:\n",
    "        #    print(f\"'{term}' not found in the document.\")"
   ]
  },
  {
   "cell_type": "code",
   "execution_count": 43,
   "id": "fa1d524a-861b-4408-9691-39142777bc31",
   "metadata": {},
   "outputs": [],
   "source": [
    "paper_titles = downloaded_files_df['title'].values.tolist()\n",
    "paper_pdf_file_paths = downloaded_files_df['pdf_file_path'].values.tolist()"
   ]
  },
  {
   "cell_type": "code",
   "execution_count": 47,
   "id": "f29aafe1-d1c2-4df3-8d4f-b13a8e04d399",
   "metadata": {},
   "outputs": [
    {
     "name": "stdout",
     "output_type": "stream",
     "text": [
      "--------------------------------------------------------------------------------\n",
      "processing: LncMachine: a machine learning algorithm for long noncoding RNA annotation in plants\n",
      "--------------------------------------------------------------------------------\n",
      "'Logistic Regression' found on page(s): [2, 6]\n",
      "'Random Forests' found on page(s): [2, 2]\n",
      "'Neural Networks' found on page(s): [7, 7, 9]\n",
      "'AdaBoost' found on page(s): [3, 4]\n",
      "--------------------------------------------------------------------------------\n",
      "--------------------------------------------------------------------------------\n",
      "processing: DMFLDA: a deep learning framework for predicting lncRNA–disease associations\n",
      "--------------------------------------------------------------------------------\n",
      "--------------------------------------------------------------------------------\n",
      "--------------------------------------------------------------------------------\n",
      "processing: Evaluation of deep learning in non-coding RNA classification\n",
      "--------------------------------------------------------------------------------\n",
      "'Autoencoders' found on page(s): [2]\n",
      "--------------------------------------------------------------------------------\n"
     ]
    }
   ],
   "source": [
    "for paper_title, pdf_file_path in zip(paper_titles, paper_pdf_file_paths):\n",
    "    print('-'*80)\n",
    "    print(f'processing: {paper_title}')\n",
    "    print('-'*80)\n",
    "    search_in_file(matcher=matcher, search_terms=search_terms, pdf_file_path=pdf_file_path)\n",
    "    print('-'*80)\n",
    "    "
   ]
  },
  {
   "cell_type": "code",
   "execution_count": null,
   "id": "bf2e3f64-216b-4517-a131-b69a91d1a00b",
   "metadata": {},
   "outputs": [],
   "source": []
  }
 ],
 "metadata": {
  "kernelspec": {
   "display_name": "Python 3 (ipykernel)",
   "language": "python",
   "name": "python3"
  },
  "language_info": {
   "codemirror_mode": {
    "name": "ipython",
    "version": 3
   },
   "file_extension": ".py",
   "mimetype": "text/x-python",
   "name": "python",
   "nbconvert_exporter": "python",
   "pygments_lexer": "ipython3",
   "version": "3.12.2"
  }
 },
 "nbformat": 4,
 "nbformat_minor": 5
}
