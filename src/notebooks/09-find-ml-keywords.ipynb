{
 "cells": [
  {
   "cell_type": "code",
   "execution_count": 2,
   "id": "de4028b5-0817-451a-a4a5-97139e5fd3de",
   "metadata": {},
   "outputs": [],
   "source": [
    "import pandas as pd"
   ]
  },
  {
   "cell_type": "code",
   "execution_count": 4,
   "id": "cff926e1-2f6e-402f-ae41-35bdb400fd7a",
   "metadata": {},
   "outputs": [],
   "source": [
    "ROOT_FOLDER = '../../'"
   ]
  },
  {
   "cell_type": "code",
   "execution_count": 7,
   "id": "454c5183-acb7-4244-9147-989a6f8890b0",
   "metadata": {},
   "outputs": [],
   "source": [
    "MODEL_CAT_FILE = f'{ROOT_FOLDER}ML-Model-Categorization.ods'"
   ]
  },
  {
   "cell_type": "code",
   "execution_count": 15,
   "id": "8004a615-17e4-41b1-aaeb-7003e61361be",
   "metadata": {},
   "outputs": [],
   "source": [
    "model_df = pd.read_excel(MODEL_CAT_FILE, sheet_name='Sheet1', usecols=['MODEL'])"
   ]
  },
  {
   "cell_type": "code",
   "execution_count": 16,
   "id": "06307f5d-845a-4be6-aec9-263804d5142d",
   "metadata": {},
   "outputs": [
    {
     "data": {
      "text/html": [
       "<div>\n",
       "<style scoped>\n",
       "    .dataframe tbody tr th:only-of-type {\n",
       "        vertical-align: middle;\n",
       "    }\n",
       "\n",
       "    .dataframe tbody tr th {\n",
       "        vertical-align: top;\n",
       "    }\n",
       "\n",
       "    .dataframe thead th {\n",
       "        text-align: right;\n",
       "    }\n",
       "</style>\n",
       "<table border=\"1\" class=\"dataframe\">\n",
       "  <thead>\n",
       "    <tr style=\"text-align: right;\">\n",
       "      <th></th>\n",
       "      <th>MODEL</th>\n",
       "    </tr>\n",
       "  </thead>\n",
       "  <tbody>\n",
       "    <tr>\n",
       "      <th>0</th>\n",
       "      <td>Linear Regression</td>\n",
       "    </tr>\n",
       "    <tr>\n",
       "      <th>1</th>\n",
       "      <td>Polynomial Regression</td>\n",
       "    </tr>\n",
       "    <tr>\n",
       "      <th>2</th>\n",
       "      <td>Ridge Regression</td>\n",
       "    </tr>\n",
       "    <tr>\n",
       "      <th>3</th>\n",
       "      <td>Lasso Regression</td>\n",
       "    </tr>\n",
       "    <tr>\n",
       "      <th>4</th>\n",
       "      <td>Elastic Net Regression</td>\n",
       "    </tr>\n",
       "    <tr>\n",
       "      <th>...</th>\n",
       "      <td>...</td>\n",
       "    </tr>\n",
       "    <tr>\n",
       "      <th>97</th>\n",
       "      <td>Claude</td>\n",
       "    </tr>\n",
       "    <tr>\n",
       "      <th>98</th>\n",
       "      <td>LLaMA</td>\n",
       "    </tr>\n",
       "    <tr>\n",
       "      <th>99</th>\n",
       "      <td>Contrastive Language-Image Pretraining</td>\n",
       "    </tr>\n",
       "    <tr>\n",
       "      <th>100</th>\n",
       "      <td>DALL-E</td>\n",
       "    </tr>\n",
       "    <tr>\n",
       "      <th>101</th>\n",
       "      <td>Stable Diffusion</td>\n",
       "    </tr>\n",
       "  </tbody>\n",
       "</table>\n",
       "<p>102 rows × 1 columns</p>\n",
       "</div>"
      ],
      "text/plain": [
       "                                      MODEL\n",
       "0                         Linear Regression\n",
       "1                     Polynomial Regression\n",
       "2                          Ridge Regression\n",
       "3                          Lasso Regression\n",
       "4                    Elastic Net Regression\n",
       "..                                      ...\n",
       "97                                   Claude\n",
       "98                                    LLaMA\n",
       "99   Contrastive Language-Image Pretraining\n",
       "100                                  DALL-E\n",
       "101                        Stable Diffusion\n",
       "\n",
       "[102 rows x 1 columns]"
      ]
     },
     "execution_count": 16,
     "metadata": {},
     "output_type": "execute_result"
    }
   ],
   "source": [
    "model_df"
   ]
  },
  {
   "cell_type": "markdown",
   "id": "60c43e2f-46d7-42e8-9b50-dd5cfb8fba13",
   "metadata": {},
   "source": [
    "The model column has duplicate values since each model can be applied to multiple categories; we just need the unique list here"
   ]
  },
  {
   "cell_type": "code",
   "execution_count": 23,
   "id": "0e6875b5-54ed-4852-a685-70bc435997f8",
   "metadata": {},
   "outputs": [],
   "source": [
    "model_df.drop_duplicates(inplace=True)"
   ]
  },
  {
   "cell_type": "code",
   "execution_count": 24,
   "id": "8606596c-285f-485f-95b1-01c21db36111",
   "metadata": {},
   "outputs": [
    {
     "data": {
      "text/html": [
       "<div>\n",
       "<style scoped>\n",
       "    .dataframe tbody tr th:only-of-type {\n",
       "        vertical-align: middle;\n",
       "    }\n",
       "\n",
       "    .dataframe tbody tr th {\n",
       "        vertical-align: top;\n",
       "    }\n",
       "\n",
       "    .dataframe thead th {\n",
       "        text-align: right;\n",
       "    }\n",
       "</style>\n",
       "<table border=\"1\" class=\"dataframe\">\n",
       "  <thead>\n",
       "    <tr style=\"text-align: right;\">\n",
       "      <th></th>\n",
       "      <th>MODEL</th>\n",
       "    </tr>\n",
       "  </thead>\n",
       "  <tbody>\n",
       "    <tr>\n",
       "      <th>0</th>\n",
       "      <td>Linear Regression</td>\n",
       "    </tr>\n",
       "    <tr>\n",
       "      <th>1</th>\n",
       "      <td>Polynomial Regression</td>\n",
       "    </tr>\n",
       "    <tr>\n",
       "      <th>2</th>\n",
       "      <td>Ridge Regression</td>\n",
       "    </tr>\n",
       "    <tr>\n",
       "      <th>3</th>\n",
       "      <td>Lasso Regression</td>\n",
       "    </tr>\n",
       "    <tr>\n",
       "      <th>4</th>\n",
       "      <td>Elastic Net Regression</td>\n",
       "    </tr>\n",
       "    <tr>\n",
       "      <th>...</th>\n",
       "      <td>...</td>\n",
       "    </tr>\n",
       "    <tr>\n",
       "      <th>96</th>\n",
       "      <td>ChatGPT</td>\n",
       "    </tr>\n",
       "    <tr>\n",
       "      <th>97</th>\n",
       "      <td>Claude</td>\n",
       "    </tr>\n",
       "    <tr>\n",
       "      <th>98</th>\n",
       "      <td>LLaMA</td>\n",
       "    </tr>\n",
       "    <tr>\n",
       "      <th>99</th>\n",
       "      <td>Contrastive Language-Image Pretraining</td>\n",
       "    </tr>\n",
       "    <tr>\n",
       "      <th>100</th>\n",
       "      <td>DALL-E</td>\n",
       "    </tr>\n",
       "  </tbody>\n",
       "</table>\n",
       "<p>99 rows × 1 columns</p>\n",
       "</div>"
      ],
      "text/plain": [
       "                                      MODEL\n",
       "0                         Linear Regression\n",
       "1                     Polynomial Regression\n",
       "2                          Ridge Regression\n",
       "3                          Lasso Regression\n",
       "4                    Elastic Net Regression\n",
       "..                                      ...\n",
       "96                                  ChatGPT\n",
       "97                                   Claude\n",
       "98                                    LLaMA\n",
       "99   Contrastive Language-Image Pretraining\n",
       "100                                  DALL-E\n",
       "\n",
       "[99 rows x 1 columns]"
      ]
     },
     "execution_count": 24,
     "metadata": {},
     "output_type": "execute_result"
    }
   ],
   "source": [
    "model_df"
   ]
  },
  {
   "cell_type": "code",
   "execution_count": 27,
   "id": "631b3770-b38a-463b-a7e0-153eb9ef700e",
   "metadata": {},
   "outputs": [
    {
     "name": "stdout",
     "output_type": "stream",
     "text": [
      "Matched model: Logistic Regression\n",
      "Matched model: Support Vector Machines\n",
      "Matched model: Random Forests\n",
      "Matched model: Neural Networks\n"
     ]
    }
   ],
   "source": [
    "import spacy\n",
    "from spacy.matcher import PhraseMatcher\n",
    "\n",
    "# Load spaCy's language model\n",
    "nlp = spacy.load(\"en_core_web_sm\")\n",
    "\n",
    "# Define a list of machine learning model names\n",
    "model_names = model_df['MODEL'].values.tolist()\n",
    "\n",
    "# Initialize PhraseMatcher\n",
    "matcher = PhraseMatcher(nlp.vocab)\n",
    "\n",
    "# Add model names as patterns\n",
    "patterns = [nlp.make_doc(name) for name in model_names]\n",
    "matcher.add(\"ML_MODELS\", patterns)\n",
    "\n",
    "# Process the academic text\n",
    "text = \"\"\"\n",
    "In this paper, we compare the performance of Logistic Regression, Support Vector Machines, \n",
    "and Random Forests on several datasets. Furthermore, we explore the use of Artificial Neural Networks.\n",
    "\"\"\"\n",
    "doc = nlp(text)\n",
    "\n",
    "# Find matches\n",
    "matches = matcher(doc)\n",
    "\n",
    "# Highlight matches in the text\n",
    "for match_id, start, end in matches:\n",
    "    span = doc[start:end]\n",
    "    print(f\"Matched model: {span.text}\")\n"
   ]
  },
  {
   "cell_type": "code",
   "execution_count": null,
   "id": "28244180-e432-44e5-94b8-e1f27373109e",
   "metadata": {},
   "outputs": [],
   "source": []
  }
 ],
 "metadata": {
  "kernelspec": {
   "display_name": "Python 3 (ipykernel)",
   "language": "python",
   "name": "python3"
  },
  "language_info": {
   "codemirror_mode": {
    "name": "ipython",
    "version": 3
   },
   "file_extension": ".py",
   "mimetype": "text/x-python",
   "name": "python",
   "nbconvert_exporter": "python",
   "pygments_lexer": "ipython3",
   "version": "3.12.2"
  }
 },
 "nbformat": 4,
 "nbformat_minor": 5
}
