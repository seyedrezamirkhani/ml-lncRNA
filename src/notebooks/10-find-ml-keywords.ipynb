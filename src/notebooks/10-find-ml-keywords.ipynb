{
 "cells": [
  {
   "cell_type": "code",
   "execution_count": 1,
   "id": "de4028b5-0817-451a-a4a5-97139e5fd3de",
   "metadata": {},
   "outputs": [],
   "source": [
    "import pandas as pd\n",
    "import spacy\n",
    "import PyPDF2"
   ]
  },
  {
   "cell_type": "code",
   "execution_count": 2,
   "id": "cff926e1-2f6e-402f-ae41-35bdb400fd7a",
   "metadata": {},
   "outputs": [],
   "source": [
    "ROOT_FOLDER = '../../'"
   ]
  },
  {
   "cell_type": "code",
   "execution_count": 3,
   "id": "51370296-6d37-4310-a92d-11d0999fb605",
   "metadata": {},
   "outputs": [],
   "source": [
    "DATA_FOLDER = '../../data/'"
   ]
  },
  {
   "cell_type": "code",
   "execution_count": 4,
   "id": "b4b899a7-16b4-4e27-8d1d-5049c3de355c",
   "metadata": {},
   "outputs": [],
   "source": [
    "DOWNLOAD_FOLDER = '../../downloads/'"
   ]
  },
  {
   "cell_type": "code",
   "execution_count": 5,
   "id": "7257aa1c-09f4-44d5-bd17-b91da75e3946",
   "metadata": {},
   "outputs": [],
   "source": [
    "downloaded_files_df = pd.read_parquet(f'{DATA_FOLDER}downloaded_files_df.parquet')"
   ]
  },
  {
   "cell_type": "code",
   "execution_count": 6,
   "id": "f6144753-29a3-4d66-875e-3f71d42e9ce8",
   "metadata": {},
   "outputs": [
    {
     "data": {
      "text/html": [
       "<div>\n",
       "<style scoped>\n",
       "    .dataframe tbody tr th:only-of-type {\n",
       "        vertical-align: middle;\n",
       "    }\n",
       "\n",
       "    .dataframe tbody tr th {\n",
       "        vertical-align: top;\n",
       "    }\n",
       "\n",
       "    .dataframe thead th {\n",
       "        text-align: right;\n",
       "    }\n",
       "</style>\n",
       "<table border=\"1\" class=\"dataframe\">\n",
       "  <thead>\n",
       "    <tr style=\"text-align: right;\">\n",
       "      <th></th>\n",
       "      <th>title</th>\n",
       "      <th>file_name</th>\n",
       "    </tr>\n",
       "  </thead>\n",
       "  <tbody>\n",
       "    <tr>\n",
       "      <th>0</th>\n",
       "      <td>LncMachine: a machine learning algorithm for l...</td>\n",
       "      <td>51807917-91f3-4b8f-8ad4-e1c5c923432e.pdf</td>\n",
       "    </tr>\n",
       "    <tr>\n",
       "      <th>1</th>\n",
       "      <td>DMFLDA: a deep learning framework for predicti...</td>\n",
       "      <td>92c4c16b-1cc5-49b0-8ff3-09182bfb02fc.pdf</td>\n",
       "    </tr>\n",
       "    <tr>\n",
       "      <th>2</th>\n",
       "      <td>Evaluation of deep learning in non-coding RNA ...</td>\n",
       "      <td>d320ce0f-7cd8-4afa-8ec7-baad93b09505.pdf</td>\n",
       "    </tr>\n",
       "  </tbody>\n",
       "</table>\n",
       "</div>"
      ],
      "text/plain": [
       "                                               title  \\\n",
       "0  LncMachine: a machine learning algorithm for l...   \n",
       "1  DMFLDA: a deep learning framework for predicti...   \n",
       "2  Evaluation of deep learning in non-coding RNA ...   \n",
       "\n",
       "                                  file_name  \n",
       "0  51807917-91f3-4b8f-8ad4-e1c5c923432e.pdf  \n",
       "1  92c4c16b-1cc5-49b0-8ff3-09182bfb02fc.pdf  \n",
       "2  d320ce0f-7cd8-4afa-8ec7-baad93b09505.pdf  "
      ]
     },
     "execution_count": 6,
     "metadata": {},
     "output_type": "execute_result"
    }
   ],
   "source": [
    "downloaded_files_df"
   ]
  },
  {
   "cell_type": "code",
   "execution_count": 7,
   "id": "d89a5c8a-9d5e-441e-b5f4-aaf60d521f2d",
   "metadata": {},
   "outputs": [],
   "source": [
    "downloaded_files_df['pdf_file_path'] = DOWNLOAD_FOLDER + downloaded_files_df['file_name']"
   ]
  },
  {
   "cell_type": "code",
   "execution_count": 8,
   "id": "5766f8bc-51a5-458a-b53a-c71c13cfa4b0",
   "metadata": {},
   "outputs": [
    {
     "data": {
      "text/html": [
       "<div>\n",
       "<style scoped>\n",
       "    .dataframe tbody tr th:only-of-type {\n",
       "        vertical-align: middle;\n",
       "    }\n",
       "\n",
       "    .dataframe tbody tr th {\n",
       "        vertical-align: top;\n",
       "    }\n",
       "\n",
       "    .dataframe thead th {\n",
       "        text-align: right;\n",
       "    }\n",
       "</style>\n",
       "<table border=\"1\" class=\"dataframe\">\n",
       "  <thead>\n",
       "    <tr style=\"text-align: right;\">\n",
       "      <th></th>\n",
       "      <th>title</th>\n",
       "      <th>file_name</th>\n",
       "      <th>pdf_file_path</th>\n",
       "    </tr>\n",
       "  </thead>\n",
       "  <tbody>\n",
       "    <tr>\n",
       "      <th>0</th>\n",
       "      <td>LncMachine: a machine learning algorithm for l...</td>\n",
       "      <td>51807917-91f3-4b8f-8ad4-e1c5c923432e.pdf</td>\n",
       "      <td>../../downloads/51807917-91f3-4b8f-8ad4-e1c5c9...</td>\n",
       "    </tr>\n",
       "    <tr>\n",
       "      <th>1</th>\n",
       "      <td>DMFLDA: a deep learning framework for predicti...</td>\n",
       "      <td>92c4c16b-1cc5-49b0-8ff3-09182bfb02fc.pdf</td>\n",
       "      <td>../../downloads/92c4c16b-1cc5-49b0-8ff3-09182b...</td>\n",
       "    </tr>\n",
       "    <tr>\n",
       "      <th>2</th>\n",
       "      <td>Evaluation of deep learning in non-coding RNA ...</td>\n",
       "      <td>d320ce0f-7cd8-4afa-8ec7-baad93b09505.pdf</td>\n",
       "      <td>../../downloads/d320ce0f-7cd8-4afa-8ec7-baad93...</td>\n",
       "    </tr>\n",
       "  </tbody>\n",
       "</table>\n",
       "</div>"
      ],
      "text/plain": [
       "                                               title  \\\n",
       "0  LncMachine: a machine learning algorithm for l...   \n",
       "1  DMFLDA: a deep learning framework for predicti...   \n",
       "2  Evaluation of deep learning in non-coding RNA ...   \n",
       "\n",
       "                                  file_name  \\\n",
       "0  51807917-91f3-4b8f-8ad4-e1c5c923432e.pdf   \n",
       "1  92c4c16b-1cc5-49b0-8ff3-09182bfb02fc.pdf   \n",
       "2  d320ce0f-7cd8-4afa-8ec7-baad93b09505.pdf   \n",
       "\n",
       "                                       pdf_file_path  \n",
       "0  ../../downloads/51807917-91f3-4b8f-8ad4-e1c5c9...  \n",
       "1  ../../downloads/92c4c16b-1cc5-49b0-8ff3-09182b...  \n",
       "2  ../../downloads/d320ce0f-7cd8-4afa-8ec7-baad93...  "
      ]
     },
     "execution_count": 8,
     "metadata": {},
     "output_type": "execute_result"
    }
   ],
   "source": [
    "downloaded_files_df"
   ]
  },
  {
   "cell_type": "code",
   "execution_count": 9,
   "id": "fa1d524a-861b-4408-9691-39142777bc31",
   "metadata": {},
   "outputs": [],
   "source": [
    "paper_titles = downloaded_files_df['title'].values.tolist()\n",
    "paper_pdf_file_paths = downloaded_files_df['pdf_file_path'].values.tolist()"
   ]
  },
  {
   "cell_type": "code",
   "execution_count": null,
   "id": "e80ce6b1-d020-4888-8e8b-48b76b79839c",
   "metadata": {},
   "outputs": [],
   "source": []
  },
  {
   "cell_type": "code",
   "execution_count": 10,
   "id": "c2d1199d-4667-4389-8b39-192c24d133ae",
   "metadata": {},
   "outputs": [
    {
     "data": {
      "text/plain": [
       "<spacy.pipeline.entityruler.EntityRuler at 0x788a2f2b2150>"
      ]
     },
     "execution_count": 10,
     "metadata": {},
     "output_type": "execute_result"
    }
   ],
   "source": [
    "import spacy\n",
    "from spacy.matcher import PhraseMatcher\n",
    "\n",
    "# Load the EntityRuler patterns from a file\n",
    "nlp = spacy.load(\"en_core_web_sm\")\n",
    "ruler = nlp.add_pipe(\"entity_ruler\", before=\"ner\")\n",
    "ruler.from_disk(f\"{DATA_FOLDER}ml_entity_ruler_patterns\")"
   ]
  },
  {
   "cell_type": "code",
   "execution_count": 11,
   "id": "184a9525-b193-4a12-9630-5a63a9e7c511",
   "metadata": {},
   "outputs": [
    {
     "name": "stdout",
     "output_type": "stream",
     "text": [
      "Support Vector Machine ML_METHOD\n"
     ]
    }
   ],
   "source": [
    "# Test the pipeline\n",
    "text = \"Support Vector Machine, Support Vector Machines, SVM, and S.V.M. are popular machine learning methods.\"\n",
    "doc = nlp(text)\n",
    "\n",
    "# Print detected entities\n",
    "for ent in doc.ents:\n",
    "    if ent.label_ == \"ML_METHOD\":\n",
    "        print(ent.text, ent.label_)\n",
    "        break"
   ]
  },
  {
   "cell_type": "code",
   "execution_count": 12,
   "id": "f9efe7d3-6abd-40bd-b6b8-ace8771bc3d5",
   "metadata": {},
   "outputs": [
    {
     "data": {
      "text/plain": [
       "'Support Vector Machine'"
      ]
     },
     "execution_count": 12,
     "metadata": {},
     "output_type": "execute_result"
    }
   ],
   "source": [
    "ent.text"
   ]
  },
  {
   "cell_type": "code",
   "execution_count": 13,
   "id": "a2ad2ad6-b798-4db6-8f57-b7fdd2912557",
   "metadata": {},
   "outputs": [],
   "source": [
    "def search_in_file(pdf_file_path):\n",
    "    search_results = dict()\n",
    "    # Extract text from PDF\n",
    "    with open(pdf_file_path, \"rb\") as pdf_file:\n",
    "        pdf_reader = PyPDF2.PdfReader(pdf_file)\n",
    "        for page_num, page in enumerate(pdf_reader.pages):\n",
    "            # Extract text from the page\n",
    "            text = page.extract_text()\n",
    "            if text:\n",
    "                # Use spaCy to process the text\n",
    "                doc = nlp(text)\n",
    "                \n",
    "                # Detect entities\n",
    "                for ent in doc.ents:\n",
    "                    if ent.label_ == \"ML_METHOD\":\n",
    "                        if ent.text in search_results:\n",
    "                            search_results[ent.text].append(page_num + 1)  # Store page number (1-indexed)\n",
    "                        else:\n",
    "                            search_results[ent.text] = [page_num + 1]  # Store page number (1-indexed)\n",
    "    \n",
    "    # Display search results\n",
    "    for term, pages in search_results.items():\n",
    "        if pages:\n",
    "            print(f\"'{term}' found on page(s): {set(pages)}\")\n",
    "        #else:\n",
    "        #    print(f\"'{term}' not found in the document.\")"
   ]
  },
  {
   "cell_type": "code",
   "execution_count": 14,
   "id": "82f46406-039a-49eb-a6c6-5a871a8df8a8",
   "metadata": {},
   "outputs": [
    {
     "name": "stdout",
     "output_type": "stream",
     "text": [
      "--------------------------------------------------------------------------------\n",
      "processing: LncMachine: a machine learning algorithm for long noncoding RNA annotation in plants\n",
      "--------------------------------------------------------------------------------\n",
      "'Random Forest' found on page(s): {1, 3, 4, 9}\n",
      "'Support Vector Machine' found on page(s): {2, 4, 5}\n",
      "'SVM' found on page(s): {2, 4, 5}\n",
      "'Logistic Regression' found on page(s): {2, 6}\n",
      "'decision tree' found on page(s): {2}\n",
      "'Random Forests' found on page(s): {2}\n",
      "'boosting' found on page(s): {2}\n",
      "'AdaBoost' found on page(s): {3, 4}\n",
      "'AA' found on page(s): {4}\n",
      "'Neural Networks' found on page(s): {9, 7}\n",
      "'random forests' found on page(s): {9}\n",
      "'support vector machine' found on page(s): {10}\n",
      "'GB' found on page(s): {10}\n",
      "'GMM' found on page(s): {10}\n",
      "--------------------------------------------------------------------------------\n",
      "--------------------------------------------------------------------------------\n",
      "processing: DMFLDA: a deep learning framework for predicting lncRNA–disease associations\n",
      "--------------------------------------------------------------------------------\n",
      "'bagging' found on page(s): {1, 5}\n",
      "'SVM' found on page(s): {1, 5}\n",
      "'support vector machine' found on page(s): {2}\n",
      "'neural networks' found on page(s): {10}\n",
      "--------------------------------------------------------------------------------\n",
      "--------------------------------------------------------------------------------\n",
      "processing: Evaluation of deep learning in non-coding RNA classification\n",
      "--------------------------------------------------------------------------------\n",
      "'recurrent neural network' found on page(s): {1}\n",
      "'RNN' found on page(s): {1, 3, 4, 5, 6, 9}\n",
      "'neural networks' found on page(s): {1}\n",
      "'Autoencoders' found on page(s): {2}\n",
      "'SVM' found on page(s): {2, 4, 5, 7, 9, 10}\n",
      "'random forest' found on page(s): {9, 10, 4}\n",
      "'Random forest' found on page(s): {4}\n",
      "'logistic regression' found on page(s): {9, 10, 4, 5}\n",
      "'support vector machine' found on page(s): {10, 4}\n",
      "'RNNs' found on page(s): {9, 10, 5}\n",
      "'generative model' found on page(s): {5}\n",
      "'LSTM' found on page(s): {8, 9, 10, 7}\n",
      "'support vector machines' found on page(s): {11}\n",
      "--------------------------------------------------------------------------------\n"
     ]
    }
   ],
   "source": [
    "for paper_title, pdf_file_path in zip(paper_titles, paper_pdf_file_paths):\n",
    "    print('-'*80)\n",
    "    print(f'processing: {paper_title}')\n",
    "    print('-'*80)\n",
    "    search_in_file(pdf_file_path=pdf_file_path)\n",
    "    print('-'*80)"
   ]
  },
  {
   "cell_type": "markdown",
   "id": "7261533f-9201-4dd8-a52d-7ee6269df20b",
   "metadata": {},
   "source": [
    "TODO:\n",
    "\n",
    "- Experiment with using a simpler empty pipeline instead of en_core_web_sm or disable unwanted pipelines, see *Disabling pipeline components* in chapter 3 of learn-spaCy project\n",
    "- Use *components with extensions* from chapter 3 of learn-spaCy project to look up the model category information e.g. training type"
   ]
  },
  {
   "cell_type": "code",
   "execution_count": null,
   "id": "92d8156e-2ee5-4379-a722-a33ed3e2515f",
   "metadata": {},
   "outputs": [],
   "source": []
  }
 ],
 "metadata": {
  "kernelspec": {
   "display_name": "Python 3 (ipykernel)",
   "language": "python",
   "name": "python3"
  },
  "language_info": {
   "codemirror_mode": {
    "name": "ipython",
    "version": 3
   },
   "file_extension": ".py",
   "mimetype": "text/x-python",
   "name": "python",
   "nbconvert_exporter": "python",
   "pygments_lexer": "ipython3",
   "version": "3.12.2"
  }
 },
 "nbformat": 4,
 "nbformat_minor": 5
}
