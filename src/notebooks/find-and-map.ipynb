{
 "cells": [
  {
   "cell_type": "raw",
   "id": "c659d6cb-7260-4d2a-8ba2-ccf6b9a37d7a",
   "metadata": {},
   "source": [
    "from scholarly import scholarly\n",
    "\n",
    "def search_papers(query, limit=20):\n",
    "    search_query = scholarly.search_pubs(query)\n",
    "    papers = []\n",
    "    for _ in range(limit):\n",
    "        try:\n",
    "            paper = next(search_query)\n",
    "            papers.append({\n",
    "                \"title\": paper.get(\"bib\", {}).get(\"title\"),\n",
    "                \"abstract\": paper.get(\"bib\", {}).get(\"abstract\"),\n",
    "                \"institution\": paper.get(\"source\"),\n",
    "                \"year\": paper.get(\"bib\", {}).get(\"pub_year\"),\n",
    "                \"url\": paper.get(\"eprint_url\")\n",
    "            })\n",
    "        except StopIteration:\n",
    "            break\n",
    "    return papers\n"
   ]
  },
  {
   "cell_type": "code",
   "execution_count": 24,
   "id": "ee49c261-7a02-4a99-853b-6459fd70daff",
   "metadata": {},
   "outputs": [],
   "source": [
    "import time\n",
    "from scholarly import scholarly\n",
    "\n",
    "def search_papers(query, limit=5):\n",
    "    search_query = scholarly.search_pubs(query)\n",
    "    papers = []\n",
    "\n",
    "    for _ in range(limit):\n",
    "        try:\n",
    "            paper = next(search_query)\n",
    "            authors = []\n",
    "            if \"author_id\" in paper:\n",
    "                for author_id in paper[\"author_id\"]:\n",
    "                    time.sleep(2)  # Introduce delay\n",
    "                    author = scholarly.fill(scholarly.search_author_id(author_id))\n",
    "                    authors.append({\n",
    "                        \"name\": author.get(\"name\"),\n",
    "                        \"affiliation\": author.get(\"affiliation\", \"Unknown\")\n",
    "                    })\n",
    "            papers.append({\n",
    "                \"title\": paper.get(\"bib\", {}).get(\"title\"),\n",
    "                \"abstract\": paper.get(\"bib\", {}).get(\"abstract\"),\n",
    "                \"authors\": authors,\n",
    "                \"year\": paper.get(\"bib\", {}).get(\"pub_year\"),\n",
    "                \"url\": paper.get(\"eprint_url\", \"Unknown\")\n",
    "            })\n",
    "        except StopIteration:\n",
    "            break\n",
    "        except Exception as e:\n",
    "            print(f\"Error processing paper or author: {e}\")\n",
    "            continue\n",
    "\n",
    "    return papers\n"
   ]
  },
  {
   "cell_type": "code",
   "execution_count": 25,
   "id": "161cba8f-a63d-46d6-9f53-a99900f8eb25",
   "metadata": {},
   "outputs": [
    {
     "name": "stdout",
     "output_type": "stream",
     "text": [
      "Error processing paper or author: 'NoneType' object has no attribute 'get'\n",
      "Error processing paper or author: 'NoneType' object has no attribute 'get'\n",
      "Error processing paper or author: 'NoneType' object has no attribute 'get'\n",
      "Error processing paper or author: 'NoneType' object has no attribute 'get'\n",
      "Title: Predicting lncRNA-protein interactions by machine learning methods: a review\n",
      "Abstract: Here, we aim to provide a review of machine-learning-based methods for predicting lncRNA  of predicting lncRNA-protein interactions into a general framework of machine learning. We\n",
      "Year: 2020\n",
      "URL: Unknown\n",
      "Authors:\n",
      "  - Zhi-Ping Liu: Professor of Biomedical Informatics, Shandong University\n",
      "--------------------------------------------------------------------------------\n"
     ]
    }
   ],
   "source": [
    "query = \"Machine Learning lncRNA\"\n",
    "papers = search_papers(query, limit=5)\n",
    "\n",
    "for paper in papers:\n",
    "    print(f\"Title: {paper['title']}\")\n",
    "    print(f\"Abstract: {paper['abstract']}\")\n",
    "    print(f\"Year: {paper['year']}\")\n",
    "    print(f\"URL: {paper['url']}\")\n",
    "    print(\"Authors:\")\n",
    "    for author in paper[\"authors\"]:\n",
    "        print(f\"  - {author['name']}: {author['affiliation']}\")\n",
    "    print(\"-\" * 80)\n"
   ]
  },
  {
   "cell_type": "code",
   "execution_count": 32,
   "id": "89dce0b7-a80a-43c8-af05-e3711f400b45",
   "metadata": {},
   "outputs": [
    {
     "data": {
      "text/plain": [
       "{'name': 'Zhi-Ping Liu',\n",
       " 'affiliation': 'Professor of Biomedical Informatics, Shandong University'}"
      ]
     },
     "execution_count": 32,
     "metadata": {},
     "output_type": "execute_result"
    }
   ],
   "source": [
    "author"
   ]
  },
  {
   "cell_type": "code",
   "execution_count": 30,
   "id": "3929b948-8c02-44bb-bdb5-4e70dd38f63c",
   "metadata": {},
   "outputs": [],
   "source": [
    "import geopandas as gpd\n",
    "import folium\n",
    "from geopy.geocoders import Nominatim\n",
    "\n",
    "def geocode_affiliations(papers):\n",
    "    geolocator = Nominatim(user_agent=\"lncRNA-map\")\n",
    "    locations = []\n",
    "\n",
    "    for paper in papers:\n",
    "        for author in paper[\"authors\"]:\n",
    "            affiliation = author.get(\"affiliation\")\n",
    "            if affiliation and affiliation != \"Unknown\":\n",
    "                location = geolocator.geocode(affiliation)\n",
    "                if location:\n",
    "                    locations.append({\n",
    "                        \"paper_title\": paper[\"title\"],\n",
    "                        \"author_name\": author[\"name\"],\n",
    "                        \"affiliation\": affiliation,\n",
    "                        \"latitude\": location.latitude,\n",
    "                        \"longitude\": location.longitude\n",
    "                    })\n",
    "    return locations\n",
    "\n",
    "def plot_affiliations(locations):\n",
    "    # Create a map\n",
    "    affiliation_map = folium.Map(location=[0, 0], zoom_start=2)\n",
    "    \n",
    "    for loc in locations:\n",
    "        folium.Marker(\n",
    "            [loc[\"latitude\"], loc[\"longitude\"]],\n",
    "            popup=f\"{loc['author_name']} ({loc['affiliation']})<br>{loc['paper_title']}\"\n",
    "        ).add_to(affiliation_map)\n",
    "    \n",
    "    return affiliation_map\n",
    "\n",
    "# Example usage\n",
    "locations = geocode_affiliations(papers)\n",
    "map_object = plot_affiliations(locations)\n",
    "map_object.save(\"affiliations_map.html\")  # Save to an HTML file\n"
   ]
  },
  {
   "cell_type": "code",
   "execution_count": 33,
   "id": "232b257b-d47c-42e9-a220-6b55076a11ba",
   "metadata": {},
   "outputs": [
    {
     "data": {
      "text/plain": [
       "Location(山东大学（青岛校区）, 72, 滨海公路, 青岛蓝谷高新技术产业开发区, 即墨区, 青岛市, 山东省, 266200, 中国, (36.36553935, 120.68458591160784, 0.0))"
      ]
     },
     "execution_count": 33,
     "metadata": {},
     "output_type": "execute_result"
    }
   ],
   "source": [
    "geolocator.geocode(\"Shandong University\")"
   ]
  },
  {
   "cell_type": "code",
   "execution_count": 34,
   "id": "42b0fa37-e3ad-4b76-9982-5da9e3bb171c",
   "metadata": {},
   "outputs": [],
   "source": [
    "geolocator.geocode(\"Professor of Biomedical Informatics, Shandong University\")"
   ]
  },
  {
   "cell_type": "markdown",
   "id": "38bdb31b-f986-4ae2-b1d3-c159a289eb69",
   "metadata": {},
   "source": [
    "TODO:\n",
    "\n",
    "Need to extract the named entity of organization/university from the affilication field"
   ]
  },
  {
   "cell_type": "code",
   "execution_count": null,
   "id": "b2c9e6c6-e868-4cf8-8c0b-bd65c05f4855",
   "metadata": {},
   "outputs": [],
   "source": []
  },
  {
   "cell_type": "code",
   "execution_count": null,
   "id": "b0931f15-be05-462e-93c0-8155a7ea7abd",
   "metadata": {},
   "outputs": [],
   "source": []
  },
  {
   "cell_type": "code",
   "execution_count": 9,
   "id": "405b34ed-c6c3-42fe-b398-5121a0288b9e",
   "metadata": {},
   "outputs": [],
   "source": [
    "import arxiv\n",
    "\n",
    "def search_papers_arxiv(query, limit=20):\n",
    "    \"\"\"\n",
    "    Search for papers on arXiv based on a query using the updated Client.results method.\n",
    "    \n",
    "    Args:\n",
    "        query (str): Search query for arXiv (e.g., \"Machine Learning lncRNA\").\n",
    "        limit (int): Maximum number of results to retrieve.\n",
    "    \n",
    "    Returns:\n",
    "        List[Dict]: A list of dictionaries containing paper metadata.\n",
    "    \"\"\"\n",
    "    client = arxiv.Client(\n",
    "        page_size=limit  # Defines the number of results per API call\n",
    "    )\n",
    "    search = arxiv.Search(\n",
    "        query=query,\n",
    "        max_results=limit,\n",
    "        sort_by=arxiv.SortCriterion.Relevance\n",
    "    )\n",
    "    \n",
    "    papers = []\n",
    "    for result in client.results(search):\n",
    "        papers.append({\n",
    "            \"title\": result.title,\n",
    "            \"abstract\": result.summary,\n",
    "            \"institution\": result.authors[0].affiliation if result.authors and result.authors[0].affiliation else \"Unknown\",\n",
    "            \"year\": result.published.year,\n",
    "            \"url\": result.entry_id\n",
    "        })\n",
    "    \n",
    "    return papers\n",
    "\n"
   ]
  },
  {
   "cell_type": "code",
   "execution_count": 3,
   "id": "b2a7d5f9-abf7-4850-9037-267365f8665d",
   "metadata": {},
   "outputs": [],
   "source": [
    "import spacy\n",
    "\n",
    "nlp = spacy.load(\"en_core_web_sm\")\n",
    "model_keywords = [\"SVM\", \"Random Forest\", \"Neural Network\", \"Deep Learning\", \"Gradient Boosting\"]\n",
    "\n",
    "def categorize_papers(papers):\n",
    "    for paper in papers:\n",
    "        doc = nlp(paper[\"abstract\"])\n",
    "        paper[\"ml_model\"] = [\n",
    "            keyword for keyword in model_keywords if keyword in doc.text\n",
    "        ]\n",
    "    return papers\n"
   ]
  },
  {
   "cell_type": "code",
   "execution_count": 4,
   "id": "2aef955c-dd63-49d4-b0e0-3b05dd366dbf",
   "metadata": {},
   "outputs": [],
   "source": [
    "from geopy.geocoders import Nominatim\n",
    "\n",
    "geolocator = Nominatim(user_agent=\"geoapi\")\n",
    "\n",
    "def geocode_institution(papers):\n",
    "    for paper in papers:\n",
    "        location = geolocator.geocode(paper[\"institution\"])\n",
    "        if location:\n",
    "            paper[\"latitude\"] = location.latitude\n",
    "            paper[\"longitude\"] = location.longitude\n",
    "    return papers\n"
   ]
  },
  {
   "cell_type": "code",
   "execution_count": 5,
   "id": "7bb00b53-0639-4415-b14f-82c79c42b8be",
   "metadata": {},
   "outputs": [],
   "source": [
    "import geopandas as gpd\n",
    "import pandas as pd\n",
    "from shapely.geometry import Point\n",
    "\n",
    "def create_geodataframe(papers):\n",
    "    df = pd.DataFrame(papers)\n",
    "    geometry = [Point(xy) for xy in zip(df[\"longitude\"], df[\"latitude\"])]\n",
    "    gdf = gpd.GeoDataFrame(df, geometry=geometry)\n",
    "    return gdf\n"
   ]
  },
  {
   "cell_type": "code",
   "execution_count": 6,
   "id": "78be4213-7e7c-49d7-913a-27f45049a8b0",
   "metadata": {},
   "outputs": [],
   "source": [
    "import geopandas as gpd\n",
    "import matplotlib.pyplot as plt\n",
    "\n",
    "def plot_papers_on_map(gdf):\n",
    "    world = gpd.read_file(gpd.datasets.get_path('naturalearth_lowres'))\n",
    "    ax = world.plot(color=\"white\", edgecolor=\"black\")\n",
    "    gdf.plot(ax=ax, color=\"red\", markersize=5)\n",
    "    plt.show()\n"
   ]
  },
  {
   "cell_type": "raw",
   "id": "1982e38e-63b2-4736-9dd8-f5d6958e1c9a",
   "metadata": {},
   "source": [
    "def main():\n",
    "    query = \"Machine Learning lncRNA\"\n",
    "    papers = search_papers(query, limit=50)\n",
    "    papers = categorize_papers(papers)\n",
    "    papers = geocode_institution(papers)\n",
    "    gdf = create_geodataframe(papers)\n",
    "    plot_papers_on_map(gdf)\n",
    "\n",
    "if __name__ == \"__main__\":\n",
    "    main()\n"
   ]
  },
  {
   "cell_type": "code",
   "execution_count": 11,
   "id": "13874df1-6e14-42df-907f-5e580d76fd16",
   "metadata": {},
   "outputs": [],
   "source": [
    "query = \"Machine Learning lncRNA\""
   ]
  },
  {
   "cell_type": "code",
   "execution_count": 12,
   "id": "ffcd9eb8-779f-4e32-bd75-da9544e1cf43",
   "metadata": {},
   "outputs": [],
   "source": [
    "papers = search_papers(query, limit=50)"
   ]
  },
  {
   "cell_type": "code",
   "execution_count": 26,
   "id": "55d33467-0f1f-463e-86aa-2d3ca5942ac2",
   "metadata": {},
   "outputs": [],
   "source": [
    "papers = categorize_papers(papers)"
   ]
  },
  {
   "cell_type": "raw",
   "id": "88b3ec54-7a4e-4514-bac9-9b56e3b52101",
   "metadata": {},
   "source": [
    "papers = geocode_institution(papers)"
   ]
  },
  {
   "cell_type": "raw",
   "id": "12fbb14b-6fb4-4190-826b-b99b60c04ec2",
   "metadata": {},
   "source": [
    "df = pd.DataFrame(papers)"
   ]
  },
  {
   "cell_type": "raw",
   "id": "24d9815a-a513-49d7-a03b-07fd076e0735",
   "metadata": {},
   "source": [
    "df.columns"
   ]
  },
  {
   "cell_type": "raw",
   "id": "71c61ed6-9cbe-4f1f-8541-2e8ff7b6ff50",
   "metadata": {},
   "source": [
    "dir(papers[0]['institution'])"
   ]
  },
  {
   "cell_type": "raw",
   "id": "715e0174-8f40-40f9-955b-fdba9f98b25b",
   "metadata": {},
   "source": [
    "type(papers[0]['institution'].value)"
   ]
  },
  {
   "cell_type": "code",
   "execution_count": 10,
   "id": "2d88b6f9-bd58-4368-9311-1183bb89672e",
   "metadata": {},
   "outputs": [
    {
     "ename": "AttributeError",
     "evalue": "'Author' object has no attribute 'affiliation'",
     "output_type": "error",
     "traceback": [
      "\u001b[0;31m---------------------------------------------------------------------------\u001b[0m",
      "\u001b[0;31mAttributeError\u001b[0m                            Traceback (most recent call last)",
      "Cell \u001b[0;32mIn[10], line 2\u001b[0m\n\u001b[1;32m      1\u001b[0m query \u001b[38;5;241m=\u001b[39m \u001b[38;5;124m\"\u001b[39m\u001b[38;5;124mMachine Learning lncRNA\u001b[39m\u001b[38;5;124m\"\u001b[39m\n\u001b[0;32m----> 2\u001b[0m papers \u001b[38;5;241m=\u001b[39m search_papers_arxiv(query, limit\u001b[38;5;241m=\u001b[39m\u001b[38;5;241m10\u001b[39m)\n\u001b[1;32m      3\u001b[0m \u001b[38;5;28;01mfor\u001b[39;00m paper \u001b[38;5;129;01min\u001b[39;00m papers:\n\u001b[1;32m      4\u001b[0m     \u001b[38;5;28mprint\u001b[39m(\u001b[38;5;124mf\u001b[39m\u001b[38;5;124m\"\u001b[39m\u001b[38;5;124mTitle: \u001b[39m\u001b[38;5;132;01m{\u001b[39;00mpaper[\u001b[38;5;124m'\u001b[39m\u001b[38;5;124mtitle\u001b[39m\u001b[38;5;124m'\u001b[39m]\u001b[38;5;132;01m}\u001b[39;00m\u001b[38;5;124m\"\u001b[39m)\n",
      "Cell \u001b[0;32mIn[9], line 28\u001b[0m, in \u001b[0;36msearch_papers_arxiv\u001b[0;34m(query, limit)\u001b[0m\n\u001b[1;32m     23\u001b[0m papers \u001b[38;5;241m=\u001b[39m []\n\u001b[1;32m     24\u001b[0m \u001b[38;5;28;01mfor\u001b[39;00m result \u001b[38;5;129;01min\u001b[39;00m client\u001b[38;5;241m.\u001b[39mresults(search):\n\u001b[1;32m     25\u001b[0m     papers\u001b[38;5;241m.\u001b[39mappend({\n\u001b[1;32m     26\u001b[0m         \u001b[38;5;124m\"\u001b[39m\u001b[38;5;124mtitle\u001b[39m\u001b[38;5;124m\"\u001b[39m: result\u001b[38;5;241m.\u001b[39mtitle,\n\u001b[1;32m     27\u001b[0m         \u001b[38;5;124m\"\u001b[39m\u001b[38;5;124mabstract\u001b[39m\u001b[38;5;124m\"\u001b[39m: result\u001b[38;5;241m.\u001b[39msummary,\n\u001b[0;32m---> 28\u001b[0m         \u001b[38;5;124m\"\u001b[39m\u001b[38;5;124minstitution\u001b[39m\u001b[38;5;124m\"\u001b[39m: result\u001b[38;5;241m.\u001b[39mauthors[\u001b[38;5;241m0\u001b[39m]\u001b[38;5;241m.\u001b[39maffiliation \u001b[38;5;28;01mif\u001b[39;00m result\u001b[38;5;241m.\u001b[39mauthors \u001b[38;5;129;01mand\u001b[39;00m result\u001b[38;5;241m.\u001b[39mauthors[\u001b[38;5;241m0\u001b[39m]\u001b[38;5;241m.\u001b[39maffiliation \u001b[38;5;28;01melse\u001b[39;00m \u001b[38;5;124m\"\u001b[39m\u001b[38;5;124mUnknown\u001b[39m\u001b[38;5;124m\"\u001b[39m,\n\u001b[1;32m     29\u001b[0m         \u001b[38;5;124m\"\u001b[39m\u001b[38;5;124myear\u001b[39m\u001b[38;5;124m\"\u001b[39m: result\u001b[38;5;241m.\u001b[39mpublished\u001b[38;5;241m.\u001b[39myear,\n\u001b[1;32m     30\u001b[0m         \u001b[38;5;124m\"\u001b[39m\u001b[38;5;124murl\u001b[39m\u001b[38;5;124m\"\u001b[39m: result\u001b[38;5;241m.\u001b[39mentry_id\n\u001b[1;32m     31\u001b[0m     })\n\u001b[1;32m     33\u001b[0m \u001b[38;5;28;01mreturn\u001b[39;00m papers\n",
      "\u001b[0;31mAttributeError\u001b[0m: 'Author' object has no attribute 'affiliation'"
     ]
    }
   ],
   "source": [
    "query = \"Machine Learning lncRNA\"\n",
    "papers = search_papers_arxiv(query, limit=10)\n",
    "for paper in papers:\n",
    "    print(f\"Title: {paper['title']}\")\n",
    "    print(f\"Abstract: {paper['abstract']}\")\n",
    "    print(f\"Institution: {paper['institution']}\")\n",
    "    print(f\"Year: {paper['year']}\")\n",
    "    print(f\"URL: {paper['url']}\")\n",
    "    print(\"-\" * 80)\n",
    "\n"
   ]
  },
  {
   "cell_type": "code",
   "execution_count": null,
   "id": "812c9d9d-d019-4ed9-98e6-0a12feb7cb83",
   "metadata": {},
   "outputs": [],
   "source": []
  }
 ],
 "metadata": {
  "kernelspec": {
   "display_name": "Python 3 (ipykernel)",
   "language": "python",
   "name": "python3"
  },
  "language_info": {
   "codemirror_mode": {
    "name": "ipython",
    "version": 3
   },
   "file_extension": ".py",
   "mimetype": "text/x-python",
   "name": "python",
   "nbconvert_exporter": "python",
   "pygments_lexer": "ipython3",
   "version": "3.12.2"
  }
 },
 "nbformat": 4,
 "nbformat_minor": 5
}
