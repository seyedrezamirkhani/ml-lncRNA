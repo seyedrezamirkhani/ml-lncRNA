{
 "cells": [
  {
   "cell_type": "code",
   "execution_count": 1,
   "id": "d5f66b56-c558-4ba0-8870-4b733b83129e",
   "metadata": {},
   "outputs": [],
   "source": [
    "import pickle\n",
    "import time\n",
    "from scholarly import scholarly"
   ]
  },
  {
   "cell_type": "code",
   "execution_count": 2,
   "id": "e041d409-c5c2-44c7-822a-fb1f2deb1eb8",
   "metadata": {},
   "outputs": [],
   "source": [
    "DATA_FOLDER = '../../../data/'"
   ]
  },
  {
   "cell_type": "code",
   "execution_count": 3,
   "id": "640d2a87-b9c9-41c7-83ae-0586cb0e5951",
   "metadata": {},
   "outputs": [],
   "source": [
    "def search_papers(query, limit=5):\n",
    "    search_query = scholarly.search_pubs(query)\n",
    "    papers = []\n",
    "\n",
    "    for _ in range(limit):\n",
    "        try:\n",
    "            paper = next(search_query)\n",
    "                        \n",
    "            papers.append({\n",
    "                \"title\": paper.get(\"bib\", {}).get(\"title\"),\n",
    "                \"abstract\": paper.get(\"bib\", {}).get(\"abstract\"),\n",
    "                \"year\": paper.get(\"bib\", {}).get(\"pub_year\"),\n",
    "                \"url\": paper.get(\"eprint_url\", \"Unknown\"),\n",
    "                \"author_id\": paper.get(\"author_id\", [])\n",
    "            })\n",
    "        except StopIteration:\n",
    "            break\n",
    "        except Exception as e:\n",
    "            print(f\"Error processing paper : {e}\")\n",
    "            continue\n",
    "\n",
    "    return papers"
   ]
  },
  {
   "cell_type": "markdown",
   "id": "8186f49a-0f0f-42be-a021-1c01be34c3e2",
   "metadata": {},
   "source": [
    "# Search for papers and save the results to disk"
   ]
  },
  {
   "cell_type": "code",
   "execution_count": 4,
   "id": "964f00bf-3b5a-4c95-b87b-9f8823c61b6e",
   "metadata": {},
   "outputs": [],
   "source": [
    "query = \"Machine Learning lncRNA\""
   ]
  },
  {
   "cell_type": "code",
   "execution_count": 5,
   "id": "c38c517a-91c8-47bb-8cb7-0929bf64845d",
   "metadata": {},
   "outputs": [],
   "source": [
    "papers = search_papers(query, limit=100)"
   ]
  },
  {
   "cell_type": "code",
   "execution_count": 6,
   "id": "3cca4099-28d9-4671-8671-e9b0387c0e89",
   "metadata": {},
   "outputs": [],
   "source": [
    "with open(f'{DATA_FOLDER}papers.pickle', 'wb') as handle:\n",
    "    pickle.dump(papers, handle, protocol=pickle.HIGHEST_PROTOCOL)"
   ]
  }
 ],
 "metadata": {
  "kernelspec": {
   "display_name": "Python 3 (ipykernel)",
   "language": "python",
   "name": "python3"
  },
  "language_info": {
   "codemirror_mode": {
    "name": "ipython",
    "version": 3
   },
   "file_extension": ".py",
   "mimetype": "text/x-python",
   "name": "python",
   "nbconvert_exporter": "python",
   "pygments_lexer": "ipython3",
   "version": "3.12.2"
  }
 },
 "nbformat": 4,
 "nbformat_minor": 5
}
