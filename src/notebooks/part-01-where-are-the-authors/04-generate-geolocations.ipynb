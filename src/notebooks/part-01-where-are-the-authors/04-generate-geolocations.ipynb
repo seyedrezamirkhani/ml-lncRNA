{
 "cells": [
  {
   "cell_type": "code",
   "execution_count": 1,
   "id": "d5f66b56-c558-4ba0-8870-4b733b83129e",
   "metadata": {},
   "outputs": [],
   "source": [
    "import pandas as pd"
   ]
  },
  {
   "cell_type": "code",
   "execution_count": 2,
   "id": "e041d409-c5c2-44c7-822a-fb1f2deb1eb8",
   "metadata": {},
   "outputs": [],
   "source": [
    "DATA_FOLDER = '../../data/'"
   ]
  },
  {
   "cell_type": "code",
   "execution_count": 3,
   "id": "5d9dd2d1-28f9-4cd1-8728-be327298dbf5",
   "metadata": {},
   "outputs": [],
   "source": [
    "organizations_df = pd.read_parquet(f'{DATA_FOLDER}organizations.parquet')"
   ]
  },
  {
   "cell_type": "code",
   "execution_count": 4,
   "id": "5e60959d-cc52-4545-afb8-9b3eac6c4cab",
   "metadata": {},
   "outputs": [
    {
     "data": {
      "text/html": [
       "<div>\n",
       "<style scoped>\n",
       "    .dataframe tbody tr th:only-of-type {\n",
       "        vertical-align: middle;\n",
       "    }\n",
       "\n",
       "    .dataframe tbody tr th {\n",
       "        vertical-align: top;\n",
       "    }\n",
       "\n",
       "    .dataframe thead th {\n",
       "        text-align: right;\n",
       "    }\n",
       "</style>\n",
       "<table border=\"1\" class=\"dataframe\">\n",
       "  <thead>\n",
       "    <tr style=\"text-align: right;\">\n",
       "      <th></th>\n",
       "      <th>organization</th>\n",
       "    </tr>\n",
       "  </thead>\n",
       "  <tbody>\n",
       "    <tr>\n",
       "      <th>0</th>\n",
       "      <td>Biomedical Informatics</td>\n",
       "    </tr>\n",
       "    <tr>\n",
       "      <th>1</th>\n",
       "      <td>Shandong University</td>\n",
       "    </tr>\n",
       "    <tr>\n",
       "      <th>2</th>\n",
       "      <td>Tianjin University</td>\n",
       "    </tr>\n",
       "    <tr>\n",
       "      <th>3</th>\n",
       "      <td>Tsinghua University</td>\n",
       "    </tr>\n",
       "    <tr>\n",
       "      <th>4</th>\n",
       "      <td>City University of Hong Kong</td>\n",
       "    </tr>\n",
       "    <tr>\n",
       "      <th>...</th>\n",
       "      <td>...</td>\n",
       "    </tr>\n",
       "    <tr>\n",
       "      <th>105</th>\n",
       "      <td>Data Scientist</td>\n",
       "    </tr>\n",
       "    <tr>\n",
       "      <th>106</th>\n",
       "      <td>Amazon.com</td>\n",
       "    </tr>\n",
       "    <tr>\n",
       "      <th>107</th>\n",
       "      <td>Biostatistics, University of Michigan</td>\n",
       "    </tr>\n",
       "    <tr>\n",
       "      <th>108</th>\n",
       "      <td>Computer Science and Engineeing</td>\n",
       "    </tr>\n",
       "    <tr>\n",
       "      <th>109</th>\n",
       "      <td>Monash University</td>\n",
       "    </tr>\n",
       "  </tbody>\n",
       "</table>\n",
       "<p>110 rows × 1 columns</p>\n",
       "</div>"
      ],
      "text/plain": [
       "                              organization\n",
       "0                   Biomedical Informatics\n",
       "1                      Shandong University\n",
       "2                       Tianjin University\n",
       "3                      Tsinghua University\n",
       "4             City University of Hong Kong\n",
       "..                                     ...\n",
       "105                         Data Scientist\n",
       "106                             Amazon.com\n",
       "107  Biostatistics, University of Michigan\n",
       "108        Computer Science and Engineeing\n",
       "109                      Monash University\n",
       "\n",
       "[110 rows x 1 columns]"
      ]
     },
     "execution_count": 4,
     "metadata": {},
     "output_type": "execute_result"
    }
   ],
   "source": [
    "organizations_df"
   ]
  },
  {
   "cell_type": "markdown",
   "id": "8186f49a-0f0f-42be-a021-1c01be34c3e2",
   "metadata": {},
   "source": [
    "# Lookup and store geolocations"
   ]
  },
  {
   "cell_type": "code",
   "execution_count": 5,
   "id": "65119f45-9c8a-4974-9dcf-4aa2be29630e",
   "metadata": {},
   "outputs": [],
   "source": [
    "import geopandas as gpd\n",
    "import folium\n",
    "from geopy.geocoders import Nominatim\n",
    "\n",
    "geolocator = Nominatim(user_agent=\"lncRNA-map\")\n",
    "\n",
    "# https://geopy.readthedocs.io/en/stable/#geopy.geocoders.options.default_timeout\n",
    "from geopy.extra.rate_limiter import RateLimiter\n",
    "geocode = RateLimiter(geolocator.geocode, min_delay_seconds=2)"
   ]
  },
  {
   "cell_type": "code",
   "execution_count": 6,
   "id": "58fbf8bd-0108-4f49-8b1b-a62e51ac6010",
   "metadata": {},
   "outputs": [],
   "source": [
    "from tqdm import tqdm"
   ]
  },
  {
   "cell_type": "code",
   "execution_count": 7,
   "id": "a0eff5a6-8c89-4eca-95ac-ffae6db32f02",
   "metadata": {},
   "outputs": [
    {
     "name": "stderr",
     "output_type": "stream",
     "text": [
      "100%|█████████████████████████████████████████| 110/110 [03:38<00:00,  1.98s/it]\n"
     ]
    }
   ],
   "source": [
    "tqdm.pandas()\n",
    "organizations_df['location'] = organizations_df['organization'].progress_apply(geocode)"
   ]
  },
  {
   "cell_type": "code",
   "execution_count": 8,
   "id": "e09786c9-242b-407c-9b8c-fd1118e74675",
   "metadata": {},
   "outputs": [],
   "source": [
    "#organizations_df.to_pickle(f'{DATA_FOLDER}organizations_with_location.pickle')"
   ]
  },
  {
   "cell_type": "code",
   "execution_count": 9,
   "id": "d9861e6d-9163-4a37-9b0e-9aa39f8211c2",
   "metadata": {},
   "outputs": [
    {
     "data": {
      "text/html": [
       "<div>\n",
       "<style scoped>\n",
       "    .dataframe tbody tr th:only-of-type {\n",
       "        vertical-align: middle;\n",
       "    }\n",
       "\n",
       "    .dataframe tbody tr th {\n",
       "        vertical-align: top;\n",
       "    }\n",
       "\n",
       "    .dataframe thead th {\n",
       "        text-align: right;\n",
       "    }\n",
       "</style>\n",
       "<table border=\"1\" class=\"dataframe\">\n",
       "  <thead>\n",
       "    <tr style=\"text-align: right;\">\n",
       "      <th></th>\n",
       "      <th>organization</th>\n",
       "      <th>location</th>\n",
       "    </tr>\n",
       "  </thead>\n",
       "  <tbody>\n",
       "    <tr>\n",
       "      <th>0</th>\n",
       "      <td>Biomedical Informatics</td>\n",
       "      <td>(Health &amp; Biomedical Informatics Centre, 202-2...</td>\n",
       "    </tr>\n",
       "    <tr>\n",
       "      <th>1</th>\n",
       "      <td>Shandong University</td>\n",
       "      <td>(山东大学（青岛校区）, 72, 滨海公路, 青岛蓝谷高新技术产业开发区, 即墨区, 青岛市...</td>\n",
       "    </tr>\n",
       "    <tr>\n",
       "      <th>2</th>\n",
       "      <td>Tianjin University</td>\n",
       "      <td>(天津医科大学, 22号, 气象台路, 新兴街道, 天津市, 和平区, 天津市, 30005...</td>\n",
       "    </tr>\n",
       "    <tr>\n",
       "      <th>3</th>\n",
       "      <td>Tsinghua University</td>\n",
       "      <td>(清华大学, 30, 双清路, 东升镇, 海淀区, 北京市, 100084, 中国, (40...</td>\n",
       "    </tr>\n",
       "    <tr>\n",
       "      <th>4</th>\n",
       "      <td>City University of Hong Kong</td>\n",
       "      <td>(香港城市大學 City University of Hong Kong, 沙田區 Sha ...</td>\n",
       "    </tr>\n",
       "    <tr>\n",
       "      <th>...</th>\n",
       "      <td>...</td>\n",
       "      <td>...</td>\n",
       "    </tr>\n",
       "    <tr>\n",
       "      <th>105</th>\n",
       "      <td>Data Scientist</td>\n",
       "      <td>None</td>\n",
       "    </tr>\n",
       "    <tr>\n",
       "      <th>106</th>\n",
       "      <td>Amazon.com</td>\n",
       "      <td>(Amazon.com Doppler, 2021, 7th Avenue, Central...</td>\n",
       "    </tr>\n",
       "    <tr>\n",
       "      <th>107</th>\n",
       "      <td>Biostatistics, University of Michigan</td>\n",
       "      <td>None</td>\n",
       "    </tr>\n",
       "    <tr>\n",
       "      <th>108</th>\n",
       "      <td>Computer Science and Engineeing</td>\n",
       "      <td>None</td>\n",
       "    </tr>\n",
       "    <tr>\n",
       "      <th>109</th>\n",
       "      <td>Monash University</td>\n",
       "      <td>(Monash University, Mile Lane, International H...</td>\n",
       "    </tr>\n",
       "  </tbody>\n",
       "</table>\n",
       "<p>110 rows × 2 columns</p>\n",
       "</div>"
      ],
      "text/plain": [
       "                              organization  \\\n",
       "0                   Biomedical Informatics   \n",
       "1                      Shandong University   \n",
       "2                       Tianjin University   \n",
       "3                      Tsinghua University   \n",
       "4             City University of Hong Kong   \n",
       "..                                     ...   \n",
       "105                         Data Scientist   \n",
       "106                             Amazon.com   \n",
       "107  Biostatistics, University of Michigan   \n",
       "108        Computer Science and Engineeing   \n",
       "109                      Monash University   \n",
       "\n",
       "                                              location  \n",
       "0    (Health & Biomedical Informatics Centre, 202-2...  \n",
       "1    (山东大学（青岛校区）, 72, 滨海公路, 青岛蓝谷高新技术产业开发区, 即墨区, 青岛市...  \n",
       "2    (天津医科大学, 22号, 气象台路, 新兴街道, 天津市, 和平区, 天津市, 30005...  \n",
       "3    (清华大学, 30, 双清路, 东升镇, 海淀区, 北京市, 100084, 中国, (40...  \n",
       "4    (香港城市大學 City University of Hong Kong, 沙田區 Sha ...  \n",
       "..                                                 ...  \n",
       "105                                               None  \n",
       "106  (Amazon.com Doppler, 2021, 7th Avenue, Central...  \n",
       "107                                               None  \n",
       "108                                               None  \n",
       "109  (Monash University, Mile Lane, International H...  \n",
       "\n",
       "[110 rows x 2 columns]"
      ]
     },
     "execution_count": 9,
     "metadata": {},
     "output_type": "execute_result"
    }
   ],
   "source": [
    "organizations_df"
   ]
  },
  {
   "cell_type": "code",
   "execution_count": null,
   "id": "2057fba6-5e68-4739-99ea-50a3ae5a8112",
   "metadata": {},
   "outputs": [],
   "source": []
  }
 ],
 "metadata": {
  "kernelspec": {
   "display_name": "Python 3 (ipykernel)",
   "language": "python",
   "name": "python3"
  },
  "language_info": {
   "codemirror_mode": {
    "name": "ipython",
    "version": 3
   },
   "file_extension": ".py",
   "mimetype": "text/x-python",
   "name": "python",
   "nbconvert_exporter": "python",
   "pygments_lexer": "ipython3",
   "version": "3.12.2"
  }
 },
 "nbformat": 4,
 "nbformat_minor": 5
}
