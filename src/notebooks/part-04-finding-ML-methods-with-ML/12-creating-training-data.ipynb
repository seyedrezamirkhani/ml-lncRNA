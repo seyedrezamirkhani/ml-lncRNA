{
 "cells": [
  {
   "cell_type": "markdown",
   "id": "dbeece59-564f-417b-beae-16307ba164a3",
   "metadata": {},
   "source": [
    "1. Label data using Named Entity Recognition\n",
    "2. Split data into train and test\n",
    "3. train model\n",
    "4. test model"
   ]
  },
  {
   "cell_type": "code",
   "execution_count": 1,
   "id": "8a945fa7-ee47-4ad7-9aaa-21a7c13ec3b7",
   "metadata": {},
   "outputs": [],
   "source": [
    "import pandas as pd\n",
    "\n",
    "import spacy\n",
    "from spacy.matcher import PhraseMatcher\n",
    "\n",
    "from scholarly import scholarly\n",
    "\n",
    "import requests\n",
    "import mimetypes\n",
    "import os\n",
    "\n",
    "import uuid\n",
    "\n",
    "import PyPDF2"
   ]
  },
  {
   "cell_type": "code",
   "execution_count": 2,
   "id": "78dc9ad0-e2d9-4529-a0e5-2723f04b88ca",
   "metadata": {},
   "outputs": [],
   "source": [
    "ROOT_FOLDER = '../../'"
   ]
  },
  {
   "cell_type": "code",
   "execution_count": 3,
   "id": "feb4fc23-04fe-40d3-9637-c3782a5c4b38",
   "metadata": {},
   "outputs": [],
   "source": [
    "DATA_FOLDER = '../../data/'"
   ]
  },
  {
   "cell_type": "code",
   "execution_count": 4,
   "id": "095e3e86-7a0a-4d66-bb1a-3a67e000d5b2",
   "metadata": {},
   "outputs": [],
   "source": [
    "DETECT_ML_MODEL_FILES_FOLDER = '../../detect_ml_model_files/'"
   ]
  },
  {
   "cell_type": "code",
   "execution_count": 5,
   "id": "68c17b22-80d3-47da-af29-f1d2157a24a2",
   "metadata": {},
   "outputs": [],
   "source": [
    "model_df = pd.read_excel(f'{ROOT_FOLDER}ML-Model-Categorization.ods', sheet_name='Sheet1', usecols=['MODEL'])"
   ]
  },
  {
   "cell_type": "code",
   "execution_count": 6,
   "id": "bb0aab8e-1d81-46ef-a36b-be4294142760",
   "metadata": {},
   "outputs": [
    {
     "data": {
      "text/html": [
       "<div>\n",
       "<style scoped>\n",
       "    .dataframe tbody tr th:only-of-type {\n",
       "        vertical-align: middle;\n",
       "    }\n",
       "\n",
       "    .dataframe tbody tr th {\n",
       "        vertical-align: top;\n",
       "    }\n",
       "\n",
       "    .dataframe thead th {\n",
       "        text-align: right;\n",
       "    }\n",
       "</style>\n",
       "<table border=\"1\" class=\"dataframe\">\n",
       "  <thead>\n",
       "    <tr style=\"text-align: right;\">\n",
       "      <th></th>\n",
       "      <th>MODEL</th>\n",
       "    </tr>\n",
       "  </thead>\n",
       "  <tbody>\n",
       "    <tr>\n",
       "      <th>0</th>\n",
       "      <td>Linear Regression</td>\n",
       "    </tr>\n",
       "    <tr>\n",
       "      <th>1</th>\n",
       "      <td>Polynomial Regression</td>\n",
       "    </tr>\n",
       "    <tr>\n",
       "      <th>2</th>\n",
       "      <td>Ridge Regression</td>\n",
       "    </tr>\n",
       "    <tr>\n",
       "      <th>3</th>\n",
       "      <td>Lasso Regression</td>\n",
       "    </tr>\n",
       "    <tr>\n",
       "      <th>4</th>\n",
       "      <td>Elastic Net Regression</td>\n",
       "    </tr>\n",
       "    <tr>\n",
       "      <th>...</th>\n",
       "      <td>...</td>\n",
       "    </tr>\n",
       "    <tr>\n",
       "      <th>97</th>\n",
       "      <td>Claude</td>\n",
       "    </tr>\n",
       "    <tr>\n",
       "      <th>98</th>\n",
       "      <td>LLaMA</td>\n",
       "    </tr>\n",
       "    <tr>\n",
       "      <th>99</th>\n",
       "      <td>Contrastive Language-Image Pretraining</td>\n",
       "    </tr>\n",
       "    <tr>\n",
       "      <th>100</th>\n",
       "      <td>DALL-E</td>\n",
       "    </tr>\n",
       "    <tr>\n",
       "      <th>101</th>\n",
       "      <td>Stable Diffusion</td>\n",
       "    </tr>\n",
       "  </tbody>\n",
       "</table>\n",
       "<p>102 rows × 1 columns</p>\n",
       "</div>"
      ],
      "text/plain": [
       "                                      MODEL\n",
       "0                         Linear Regression\n",
       "1                     Polynomial Regression\n",
       "2                          Ridge Regression\n",
       "3                          Lasso Regression\n",
       "4                    Elastic Net Regression\n",
       "..                                      ...\n",
       "97                                   Claude\n",
       "98                                    LLaMA\n",
       "99   Contrastive Language-Image Pretraining\n",
       "100                                  DALL-E\n",
       "101                        Stable Diffusion\n",
       "\n",
       "[102 rows x 1 columns]"
      ]
     },
     "execution_count": 6,
     "metadata": {},
     "output_type": "execute_result"
    }
   ],
   "source": [
    "model_df"
   ]
  },
  {
   "cell_type": "code",
   "execution_count": 7,
   "id": "7464cb50-e4ed-4d74-b25f-9e69dd975169",
   "metadata": {},
   "outputs": [
    {
     "data": {
      "text/plain": [
       "<spacy.pipeline.entityruler.EntityRuler at 0x7173db597210>"
      ]
     },
     "execution_count": 7,
     "metadata": {},
     "output_type": "execute_result"
    }
   ],
   "source": [
    "# nlp = spacy.blank(\"en\")\n",
    "# ruler = nlp.add_pipe(\"entity_ruler\")\n",
    "\n",
    "#nlp = spacy.load(\"en_core_web_sm\")\n",
    "#ruler = nlp.add_pipe(\"entity_ruler\", before=\"ner\")\n",
    "\n",
    "nlp = spacy.load(\"en_core_web_sm\", exclude=[\"ner\"])  # Exclude the default NER component\n",
    "ruler = nlp.add_pipe(\"entity_ruler\", last=True)\n",
    "\n",
    "# Load the EntityRuler patterns from a file\n",
    "ruler.from_disk(f\"{DATA_FOLDER}ml_entity_ruler_patterns\")"
   ]
  },
  {
   "cell_type": "code",
   "execution_count": 8,
   "id": "14753302-f5c6-4243-8331-611eab955003",
   "metadata": {},
   "outputs": [
    {
     "name": "stdout",
     "output_type": "stream",
     "text": [
      "Support Vector Machine ML_METHOD\n",
      "Support Vector Machines ML_METHOD\n",
      "SVM ML_METHOD\n"
     ]
    }
   ],
   "source": [
    "# Test the pipeline\n",
    "text = \"Support Vector Machine, Support Vector Machines, SVM, and S.V.M. are popular machine learning methods.\"\n",
    "doc = nlp(text)\n",
    "\n",
    "# Print detected entities\n",
    "for ent in doc.ents:\n",
    "    print(ent.text, ent.label_)\n"
   ]
  },
  {
   "cell_type": "code",
   "execution_count": 9,
   "id": "3394777a-7d85-4c68-8cc5-f6776fa2b996",
   "metadata": {},
   "outputs": [],
   "source": [
    "def search_and_download_papers(query, limit, output_dir):\n",
    "    search_query = scholarly.search_pubs(query)\n",
    "    papers = []\n",
    "    counter = 0\n",
    "\n",
    "    while(counter < limit):\n",
    "        try:\n",
    "            paper = next(search_query)\n",
    "            paper_info = {\n",
    "                \"title\": paper.get(\"bib\", {}).get(\"title\"),\n",
    "                \"abstract\": paper.get(\"bib\", {}).get(\"abstract\"),\n",
    "                \"year\": paper.get(\"bib\", {}).get(\"pub_year\"),\n",
    "                \"url\": paper.get(\"eprint_url\", \"\"),\n",
    "                \"author_id\": paper.get(\"author_id\", []),\n",
    "                \"query\": query,\n",
    "                \"file_name\": \"\",\n",
    "                \"file_path\": None\n",
    "            }\n",
    "\n",
    "            # lets download the file if the url exists\n",
    "            if paper_info['url']:\n",
    "                url = paper_info['url']\n",
    "                try:\n",
    "                    # Download the file if a link is available\n",
    "                    response = requests.get(url, stream=True)\n",
    "                    content_type = response.headers.get('Content-Type', '')\n",
    "                    # Check if the content type is PDF\n",
    "                    if 'application/pdf' in content_type or mimetypes.guess_extension(content_type) == '.pdf':\n",
    "                        unique_filename = str(uuid.uuid4()) + '.pdf'\n",
    "                        file_path = os.path.join(output_dir, unique_filename)\n",
    "\n",
    "                        with open(file_path, \"wb\") as file:\n",
    "                            for chunk in response.iter_content(chunk_size=8192):\n",
    "                                file.write(chunk)\n",
    "                        \n",
    "                        print(f\"Downloaded: {file_path}\")                            \n",
    "                        paper_info['file_name'] = unique_filename\n",
    "                        paper_info['file_path'] = file_path\n",
    "                        counter += 1\n",
    "                    else:\n",
    "                        print(f\"non-PDF content: {url}\")             \n",
    "                except Exception as e:\n",
    "                    print(f\"Error occurred while processing {url}: {e}\")                                \n",
    "            papers.append(paper_info)\n",
    "        except StopIteration:\n",
    "            break\n",
    "        except Exception as e:\n",
    "            print(f\"Error processing paper : {e}\")\n",
    "            continue\n",
    "\n",
    "    return papers"
   ]
  },
  {
   "cell_type": "code",
   "execution_count": 10,
   "id": "78859dec-b0c5-4896-9211-14346ed671bf",
   "metadata": {},
   "outputs": [],
   "source": [
    "models = model_df['MODEL'].values.tolist()"
   ]
  },
  {
   "cell_type": "code",
   "execution_count": 11,
   "id": "2aac24ec-cf12-4d48-a817-f0f6b4e4632c",
   "metadata": {},
   "outputs": [
    {
     "name": "stdout",
     "output_type": "stream",
     "text": [
      "Searching for: Linear Regression\n",
      "Downloaded: ../../detect_ml_model_files/18d9a07e-aaa5-4cbe-a094-ccc035a96392.pdf\n",
      "Downloaded: ../../detect_ml_model_files/676f08c1-c344-47ef-8694-93241600ad97.pdf\n",
      "Downloaded: ../../detect_ml_model_files/f27e0133-3cda-481d-8c6c-d391985791da.pdf\n",
      "Downloaded: ../../detect_ml_model_files/bc86b990-5a20-443e-8dc8-fe889808f53f.pdf\n",
      "non-PDF content: https://www.sciencedirect.com/science/article/pii/S1877042813046429/pdf?md5=da62147e64e2f356bfe6696b4f8031c1&pid=1-s2.0-S1877042813046429-main.pdf&_valck=1\n",
      "Downloaded: ../../detect_ml_model_files/9156c2b4-3e09-4953-82db-0d1adffa8e28.pdf\n"
     ]
    }
   ],
   "source": [
    "search_results = list()\n",
    "\n",
    "for model in models:\n",
    "    print(f\"Searching for: {model}\")    \n",
    "    papers = search_and_download_papers(query=model, limit=5, output_dir=DETECT_ML_MODEL_FILES_FOLDER)\n",
    "    search_results.append(papers)\n",
    "    break"
   ]
  },
  {
   "cell_type": "code",
   "execution_count": 12,
   "id": "7c7d4c49-8a50-4386-8392-18b9402c179b",
   "metadata": {},
   "outputs": [],
   "source": [
    "# can do it in one line but is it easier to read?\n",
    "# flattened_data = [paper for paper in papers for papers in search_results]\n",
    "flattened_data = list()\n",
    "for papers in search_results:\n",
    "    for paper in papers:\n",
    "        flattened_data.append(paper)\n",
    "    "
   ]
  },
  {
   "cell_type": "code",
   "execution_count": 13,
   "id": "66e60067-6059-4392-8c89-9d0e7b6c777f",
   "metadata": {},
   "outputs": [],
   "source": [
    "data_df = pd.DataFrame(flattened_data)"
   ]
  },
  {
   "cell_type": "code",
   "execution_count": 14,
   "id": "7bccc95d-939c-494b-9ffb-8fa9a1eab0bf",
   "metadata": {},
   "outputs": [
    {
     "data": {
      "text/html": [
       "<div>\n",
       "<style scoped>\n",
       "    .dataframe tbody tr th:only-of-type {\n",
       "        vertical-align: middle;\n",
       "    }\n",
       "\n",
       "    .dataframe tbody tr th {\n",
       "        vertical-align: top;\n",
       "    }\n",
       "\n",
       "    .dataframe thead th {\n",
       "        text-align: right;\n",
       "    }\n",
       "</style>\n",
       "<table border=\"1\" class=\"dataframe\">\n",
       "  <thead>\n",
       "    <tr style=\"text-align: right;\">\n",
       "      <th></th>\n",
       "      <th>title</th>\n",
       "      <th>abstract</th>\n",
       "      <th>year</th>\n",
       "      <th>url</th>\n",
       "      <th>author_id</th>\n",
       "      <th>query</th>\n",
       "      <th>file_name</th>\n",
       "      <th>file_path</th>\n",
       "    </tr>\n",
       "  </thead>\n",
       "  <tbody>\n",
       "    <tr>\n",
       "      <th>0</th>\n",
       "      <td>Linear regression</td>\n",
       "      <td>Linear regression plays a fundamental role in ...</td>\n",
       "      <td>2012</td>\n",
       "      <td>https://www.cs.columbia.edu/~djhsu/coms4771-f2...</td>\n",
       "      <td>[wcgZZP8AAAAJ, , El-UNYoAAAAJ]</td>\n",
       "      <td>Linear Regression</td>\n",
       "      <td>18d9a07e-aaa5-4cbe-a094-ccc035a96392.pdf</td>\n",
       "      <td>../../detect_ml_model_files/18d9a07e-aaa5-4cbe...</td>\n",
       "    </tr>\n",
       "    <tr>\n",
       "      <th>1</th>\n",
       "      <td>Introduction to linear regression analysis</td>\n",
       "      <td>Equation (1.2) is called a linear regression m...</td>\n",
       "      <td>2021</td>\n",
       "      <td>http://sutlib2.sut.ac.th/sut_contents/H133678.pdf</td>\n",
       "      <td>[5PboKNAAAAAJ, , y2eb6cQAAAAJ]</td>\n",
       "      <td>Linear Regression</td>\n",
       "      <td>676f08c1-c344-47ef-8694-93241600ad97.pdf</td>\n",
       "      <td>../../detect_ml_model_files/676f08c1-c344-47ef...</td>\n",
       "    </tr>\n",
       "    <tr>\n",
       "      <th>2</th>\n",
       "      <td>Linear regression</td>\n",
       "      <td>linear regression, a very simple approach for ...</td>\n",
       "      <td>2023</td>\n",
       "      <td>https://datamineaz.org/readings/ISL_chp3.pdf</td>\n",
       "      <td>[KUIjZqgAAAAJ, bHZf-c8AAAAJ, tQVe-fAAAAAJ, ZpG...</td>\n",
       "      <td>Linear Regression</td>\n",
       "      <td>f27e0133-3cda-481d-8c6c-d391985791da.pdf</td>\n",
       "      <td>../../detect_ml_model_files/f27e0133-3cda-481d...</td>\n",
       "    </tr>\n",
       "    <tr>\n",
       "      <th>3</th>\n",
       "      <td>Linear regression</td>\n",
       "      <td>In linear regression the ordinary least square...</td>\n",
       "      <td>2012</td>\n",
       "      <td></td>\n",
       "      <td>[vBWC0XIAAAAJ]</td>\n",
       "      <td>Linear Regression</td>\n",
       "      <td></td>\n",
       "      <td>None</td>\n",
       "    </tr>\n",
       "    <tr>\n",
       "      <th>4</th>\n",
       "      <td>Applied linear regression</td>\n",
       "      <td>Applied linear regression Applied linear regre...</td>\n",
       "      <td>2005</td>\n",
       "      <td>https://www.stat.cmu.edu/~brian/valerie/617-20...</td>\n",
       "      <td>[wlu6jZQAAAAJ]</td>\n",
       "      <td>Linear Regression</td>\n",
       "      <td>bc86b990-5a20-443e-8dc8-fe889808f53f.pdf</td>\n",
       "      <td>../../detect_ml_model_files/bc86b990-5a20-443e...</td>\n",
       "    </tr>\n",
       "    <tr>\n",
       "      <th>5</th>\n",
       "      <td>Linear regression analysis</td>\n",
       "      <td>been a steady flow of books on regression rang...</td>\n",
       "      <td>2012</td>\n",
       "      <td></td>\n",
       "      <td>[, ]</td>\n",
       "      <td>Linear Regression</td>\n",
       "      <td></td>\n",
       "      <td>None</td>\n",
       "    </tr>\n",
       "    <tr>\n",
       "      <th>6</th>\n",
       "      <td>Linear regression</td>\n",
       "      <td>Next, we run a series of linear regression and...</td>\n",
       "      <td>2020</td>\n",
       "      <td></td>\n",
       "      <td>[xBAIQ40AAAAJ]</td>\n",
       "      <td>Linear Regression</td>\n",
       "      <td></td>\n",
       "      <td>None</td>\n",
       "    </tr>\n",
       "    <tr>\n",
       "      <th>7</th>\n",
       "      <td>A study on multiple linear regression analysis</td>\n",
       "      <td>and which were cleared for this purpose, the l...</td>\n",
       "      <td>2013</td>\n",
       "      <td>https://www.sciencedirect.com/science/article/...</td>\n",
       "      <td>[MLRy-6cAAAAJ, -PuUCI0AAAAJ]</td>\n",
       "      <td>Linear Regression</td>\n",
       "      <td></td>\n",
       "      <td>None</td>\n",
       "    </tr>\n",
       "    <tr>\n",
       "      <th>8</th>\n",
       "      <td>A review on linear regression comprehensive in...</td>\n",
       "      <td>We discuss linear regression and polynomial re...</td>\n",
       "      <td>2020</td>\n",
       "      <td>https://jastt.org/index.php/jasttpath/article/...</td>\n",
       "      <td>[G9U01kwAAAAJ, aBdgHxkAAAAJ]</td>\n",
       "      <td>Linear Regression</td>\n",
       "      <td>9156c2b4-3e09-4953-82db-0d1adffa8e28.pdf</td>\n",
       "      <td>../../detect_ml_model_files/9156c2b4-3e09-4953...</td>\n",
       "    </tr>\n",
       "  </tbody>\n",
       "</table>\n",
       "</div>"
      ],
      "text/plain": [
       "                                               title  \\\n",
       "0                                  Linear regression   \n",
       "1         Introduction to linear regression analysis   \n",
       "2                                  Linear regression   \n",
       "3                                  Linear regression   \n",
       "4                          Applied linear regression   \n",
       "5                         Linear regression analysis   \n",
       "6                                  Linear regression   \n",
       "7     A study on multiple linear regression analysis   \n",
       "8  A review on linear regression comprehensive in...   \n",
       "\n",
       "                                            abstract  year  \\\n",
       "0  Linear regression plays a fundamental role in ...  2012   \n",
       "1  Equation (1.2) is called a linear regression m...  2021   \n",
       "2  linear regression, a very simple approach for ...  2023   \n",
       "3  In linear regression the ordinary least square...  2012   \n",
       "4  Applied linear regression Applied linear regre...  2005   \n",
       "5  been a steady flow of books on regression rang...  2012   \n",
       "6  Next, we run a series of linear regression and...  2020   \n",
       "7  and which were cleared for this purpose, the l...  2013   \n",
       "8  We discuss linear regression and polynomial re...  2020   \n",
       "\n",
       "                                                 url  \\\n",
       "0  https://www.cs.columbia.edu/~djhsu/coms4771-f2...   \n",
       "1  http://sutlib2.sut.ac.th/sut_contents/H133678.pdf   \n",
       "2       https://datamineaz.org/readings/ISL_chp3.pdf   \n",
       "3                                                      \n",
       "4  https://www.stat.cmu.edu/~brian/valerie/617-20...   \n",
       "5                                                      \n",
       "6                                                      \n",
       "7  https://www.sciencedirect.com/science/article/...   \n",
       "8  https://jastt.org/index.php/jasttpath/article/...   \n",
       "\n",
       "                                           author_id              query  \\\n",
       "0                     [wcgZZP8AAAAJ, , El-UNYoAAAAJ]  Linear Regression   \n",
       "1                     [5PboKNAAAAAJ, , y2eb6cQAAAAJ]  Linear Regression   \n",
       "2  [KUIjZqgAAAAJ, bHZf-c8AAAAJ, tQVe-fAAAAAJ, ZpG...  Linear Regression   \n",
       "3                                     [vBWC0XIAAAAJ]  Linear Regression   \n",
       "4                                     [wlu6jZQAAAAJ]  Linear Regression   \n",
       "5                                               [, ]  Linear Regression   \n",
       "6                                     [xBAIQ40AAAAJ]  Linear Regression   \n",
       "7                       [MLRy-6cAAAAJ, -PuUCI0AAAAJ]  Linear Regression   \n",
       "8                       [G9U01kwAAAAJ, aBdgHxkAAAAJ]  Linear Regression   \n",
       "\n",
       "                                  file_name  \\\n",
       "0  18d9a07e-aaa5-4cbe-a094-ccc035a96392.pdf   \n",
       "1  676f08c1-c344-47ef-8694-93241600ad97.pdf   \n",
       "2  f27e0133-3cda-481d-8c6c-d391985791da.pdf   \n",
       "3                                             \n",
       "4  bc86b990-5a20-443e-8dc8-fe889808f53f.pdf   \n",
       "5                                             \n",
       "6                                             \n",
       "7                                             \n",
       "8  9156c2b4-3e09-4953-82db-0d1adffa8e28.pdf   \n",
       "\n",
       "                                           file_path  \n",
       "0  ../../detect_ml_model_files/18d9a07e-aaa5-4cbe...  \n",
       "1  ../../detect_ml_model_files/676f08c1-c344-47ef...  \n",
       "2  ../../detect_ml_model_files/f27e0133-3cda-481d...  \n",
       "3                                               None  \n",
       "4  ../../detect_ml_model_files/bc86b990-5a20-443e...  \n",
       "5                                               None  \n",
       "6                                               None  \n",
       "7                                               None  \n",
       "8  ../../detect_ml_model_files/9156c2b4-3e09-4953...  "
      ]
     },
     "execution_count": 14,
     "metadata": {},
     "output_type": "execute_result"
    }
   ],
   "source": [
    "data_df"
   ]
  },
  {
   "cell_type": "markdown",
   "id": "dee84f69-a7de-403c-b401-2cfc77042a64",
   "metadata": {},
   "source": [
    "Find terms in file to use as labels"
   ]
  },
  {
   "cell_type": "code",
   "execution_count": 15,
   "id": "b7001446-b89d-4431-b4fd-c1aa24326740",
   "metadata": {},
   "outputs": [],
   "source": [
    "def search_in_file(pdf_file_path):\n",
    "    search_results = dict()\n",
    "    # Extract text from PDF\n",
    "    with open(pdf_file_path, \"rb\") as pdf_file:\n",
    "        pdf_reader = PyPDF2.PdfReader(pdf_file)\n",
    "        for page_num, page in enumerate(pdf_reader.pages):\n",
    "            # Extract text from the page\n",
    "            text = page.extract_text()\n",
    "            if text:\n",
    "                # Use spaCy to process the text\n",
    "                doc = nlp(text)\n",
    "                \n",
    "                # Detect entities\n",
    "                for ent in doc.ents:\n",
    "                    if ent.label_ == \"ML_METHOD\":\n",
    "                        if ent.text in search_results:\n",
    "                            search_results[ent.text].append(page_num + 1)  # Store page number (1-indexed)\n",
    "                        else:\n",
    "                            search_results[ent.text] = [page_num + 1]  # Store page number (1-indexed)\n",
    "    \n",
    "    # Display search results\n",
    "    for term, pages in search_results.items():\n",
    "        if pages:\n",
    "            print(f\"'{term}' found on page(s): {set(pages)}\")\n",
    "        #else:\n",
    "        #    print(f\"'{term}' not found in the document.\")"
   ]
  },
  {
   "cell_type": "code",
   "execution_count": 17,
   "id": "5bd5f942-37b9-4786-8644-d44926ce1775",
   "metadata": {},
   "outputs": [],
   "source": [
    "file_paths = data_df['file_path'].dropna().values.tolist()"
   ]
  },
  {
   "cell_type": "code",
   "execution_count": 18,
   "id": "81596f97-d434-47a7-b4c8-55eca8cefdab",
   "metadata": {},
   "outputs": [
    {
     "name": "stdout",
     "output_type": "stream",
     "text": [
      "../../detect_ml_model_files/18d9a07e-aaa5-4cbe-a094-ccc035a96392.pdf\n"
     ]
    }
   ],
   "source": [
    "pdf_file_path = file_paths[0]\n",
    "\n",
    "print(pdf_file_path)"
   ]
  },
  {
   "cell_type": "code",
   "execution_count": 19,
   "id": "65a6ac06-5a89-45b4-96b1-0542b751f6ca",
   "metadata": {},
   "outputs": [],
   "source": [
    "with open(pdf_file_path, \"rb\") as pdf_file:\n",
    "    pdf_reader = PyPDF2.PdfReader(pdf_file)\n",
    "    for page_num, page in enumerate(pdf_reader.pages):\n",
    "        # Extract text from the page\n",
    "        text = page.extract_text()\n",
    "        break"
   ]
  },
  {
   "cell_type": "code",
   "execution_count": 20,
   "id": "9f688acc-3ed2-4fd7-8acf-cde835755a46",
   "metadata": {},
   "outputs": [],
   "source": [
    "doc = nlp(text)"
   ]
  },
  {
   "cell_type": "code",
   "execution_count": 21,
   "id": "64d48217-6075-4ae0-8c78-6d1b91a96c1e",
   "metadata": {},
   "outputs": [
    {
     "name": "stdout",
     "output_type": "stream",
     "text": [
      "Linear regression\n",
      "linear regression\n"
     ]
    }
   ],
   "source": [
    "for ent in doc.ents:\n",
    "    print(ent)"
   ]
  },
  {
   "cell_type": "code",
   "execution_count": 22,
   "id": "21167328-394c-4e76-a084-9e51cde8829b",
   "metadata": {},
   "outputs": [
    {
     "name": "stdout",
     "output_type": "stream",
     "text": [
      "Linear regression\n",
      "Daniel Hsu (COMS 4771)\n",
      "Maximum likelihood estimation\n",
      "One of the simplest linear regression models is the following: (X1,Y1),..., (Xn,Yn),(X,Y)are iid random\n",
      "pairs taking values in Rd×R, and\n",
      "Y|X=x∼N(xTw,σ2),x∈Rd.\n",
      "\n",
      "Here, the vector w∈Rdand scalarσ2>0are the parameters of the model.\n",
      "(The marginal distribution of\n",
      "Xis unspeciﬁed.)\n",
      "\n",
      "Thelog-likelihood of(w,σ2)given (Xi,Yi)\n",
      "= (xi,yi)fori= 1,...,nis\n",
      "n/summationdisplay\n",
      "i=1/braceleftBigg\n",
      "ln1√\n",
      "2πσ2−(yi−xT\n",
      "iw)2\n",
      "2σ2/bracerightBigg\n",
      "+T,\n",
      "whereTis some quantity that does not depend on (w,σ2).\n",
      "Therefore, maximizing the log-likelihood over\n",
      "w∈Rd(for anyσ2>0) is the same as minimizing\n",
      "1\n",
      "nn/summationdisplay\n",
      "i=1(xT\n",
      "iw−yi)2.\n",
      "\n",
      "So, the maximum likelihood estimator (MLE) ofwin this model is\n",
      "ˆw∈arg min\n",
      "w∈Rd1\n",
      "nn/summationdisplay\n",
      "i=1(xT\n",
      "iw−yi)2.\n",
      "\n",
      "(It is not necessarily uniquely determined.)\n",
      "\n",
      "Empirical risk minimization\n",
      "LetPnbe the empirical distribution on(x1,y1),..., (xn,yn)∈Rd×R, i.e., the probability distribution over\n",
      "Rd×Rwith probability mass function pngiven by\n",
      "pn((x,y))\n",
      "=1\n",
      "nn/summationdisplay\n",
      "i=11{(x,y)=(xi,yi)},(x,y)∈Rd×R.\n",
      "The distribution assigns probability mass 1/nto each (xi,yi)fori= 1,...,n; no mass is assigned anywhere\n",
      "else.\n",
      "Now consider (˜X,˜Y)∼Pn.\n",
      "The expected squared loss of the linear function w∈Rdon(˜X,˜Y)is\n",
      "/hatwideR(w):=E[(˜XTw−˜Y)2] =1\n",
      "nn/summationdisplay\n",
      "i=1(xT\n",
      "iw−yi)2;\n",
      "we call this the empirical risk ofwon the data (x1,y1),..., (xn,yn).\n",
      "\n",
      "1\n"
     ]
    }
   ],
   "source": [
    "#nlp.add_pipe(\"sentencizer\", before=\"parser\")\n",
    "\n",
    "# Recreate the Doc object\n",
    "#doc = nlp(text)\n",
    "\n",
    "for sentence in doc.sents:\n",
    "    print(sentence.text)"
   ]
  },
  {
   "cell_type": "code",
   "execution_count": 23,
   "id": "343d8e8e-7e11-4c8a-822e-6699dfb52fd5",
   "metadata": {},
   "outputs": [
    {
     "data": {
      "text/html": [
       "<span class=\"tex2jax_ignore\"><div class=\"entities\" style=\"line-height: 2.5; direction: ltr\">\n",
       "<mark class=\"entity\" style=\"background: #f6c5be; padding: 0.45em 0.6em; margin: 0 0.25em; line-height: 1; border-radius: 0.35em;\">\n",
       "    Linear regression\n",
       "    <span style=\"font-size: 0.8em; font-weight: bold; line-height: 1; border-radius: 0.35em; vertical-align: middle; margin-left: 0.5rem\">ML_METHOD</span>\n",
       "</mark>\n",
       "<br>Daniel Hsu (COMS 4771)<br>Maximum likelihood estimation<br>One of the simplest \n",
       "<mark class=\"entity\" style=\"background: #f6c5be; padding: 0.45em 0.6em; margin: 0 0.25em; line-height: 1; border-radius: 0.35em;\">\n",
       "    linear regression\n",
       "    <span style=\"font-size: 0.8em; font-weight: bold; line-height: 1; border-radius: 0.35em; vertical-align: middle; margin-left: 0.5rem\">ML_METHOD</span>\n",
       "</mark>\n",
       " models is the following: (X1,Y1),..., (Xn,Yn),(X,Y)are iid random<br>pairs taking values in Rd×R, and<br>Y|X=x∼N(xTw,σ2),x∈Rd.<br>Here, the vector w∈Rdand scalarσ2&gt;0are the parameters of the model. (The marginal distribution of<br>Xis unspeciﬁed.)<br>Thelog-likelihood of(w,σ2)given (Xi,Yi) = (xi,yi)fori= 1,...,nis<br>n/summationdisplay<br>i=1/braceleftBigg<br>ln1√<br>2πσ2−(yi−xT<br>iw)2<br>2σ2/bracerightBigg<br>+T,<br>whereTis some quantity that does not depend on (w,σ2). Therefore, maximizing the log-likelihood over<br>w∈Rd(for anyσ2&gt;0) is the same as minimizing<br>1<br>nn/summationdisplay<br>i=1(xT<br>iw−yi)2.<br>So, the maximum likelihood estimator (MLE) ofwin this model is<br>ˆw∈arg min<br>w∈Rd1<br>nn/summationdisplay<br>i=1(xT<br>iw−yi)2.<br>(It is not necessarily uniquely determined.)<br>Empirical risk minimization<br>LetPnbe the empirical distribution on(x1,y1),..., (xn,yn)∈Rd×R, i.e., the probability distribution over<br>Rd×Rwith probability mass function pngiven by<br>pn((x,y)) =1<br>nn/summationdisplay<br>i=11{(x,y)=(xi,yi)},(x,y)∈Rd×R.<br>The distribution assigns probability mass 1/nto each (xi,yi)fori= 1,...,n; no mass is assigned anywhere<br>else. Now consider (˜X,˜Y)∼Pn. The expected squared loss of the linear function w∈Rdon(˜X,˜Y)is<br>/hatwideR(w):=E[(˜XTw−˜Y)2] =1<br>nn/summationdisplay<br>i=1(xT<br>iw−yi)2;<br>we call this the empirical risk ofwon the data (x1,y1),..., (xn,yn).<br>1</div></span>"
      ],
      "text/plain": [
       "<IPython.core.display.HTML object>"
      ]
     },
     "metadata": {},
     "output_type": "display_data"
    }
   ],
   "source": [
    "from spacy import displacy\n",
    "\n",
    "# Render the entities in a Jupyter Notebook or as HTML\n",
    "# displacy.render(doc, style=\"ent\", jupyter=True)  # Use jupyter=True if in a notebook\n",
    "\n",
    "options = {\"colors\": {\"ORG\": \"linear-gradient(90deg, #aa9cfc, #fc9ce7)\", \"ML_METHOD\": \"#f6c5be\"}}\n",
    "displacy.render(doc, style=\"ent\", options=options, jupyter=True)\n"
   ]
  },
  {
   "cell_type": "markdown",
   "id": "27735c14-b2a0-4c2c-880f-d7a392348409",
   "metadata": {},
   "source": [
    "Lets only select sentences with a ML_METHOD entity\n"
   ]
  },
  {
   "cell_type": "code",
   "execution_count": 24,
   "id": "1d072f8a-d143-47dd-bf9f-0c78ef34a5b7",
   "metadata": {},
   "outputs": [
    {
     "name": "stdout",
     "output_type": "stream",
     "text": [
      "Filtered Sentences:\n",
      "Linear regression\n",
      "Daniel Hsu (COMS 4771)\n",
      "Maximum likelihood estimation\n",
      "One of the simplest linear regression models is the following: (X1,Y1),..., (Xn,Yn),(X,Y)are iid random\n",
      "pairs taking values in Rd×R, and\n",
      "Y|X=x∼N(xTw,σ2),x∈Rd.\n",
      "\n"
     ]
    }
   ],
   "source": [
    "# Extract sentences with ML_METHOD entities\n",
    "filtered_sentences = [\n",
    "    sentence.text\n",
    "    for sentence in doc.sents\n",
    "    if any(ent.label_ == \"ML_METHOD\" for ent in sentence.ents)\n",
    "]\n",
    "\n",
    "# Create a new text containing only those sentences\n",
    "filtered_text = \" \".join(filtered_sentences)\n",
    "\n",
    "# Create a new Doc object with the filtered text\n",
    "filtered_doc = nlp(filtered_text)\n",
    "\n",
    "# Print the filtered sentences\n",
    "print(\"Filtered Sentences:\")\n",
    "for sentence in filtered_doc.sents:\n",
    "    print(sentence.text)"
   ]
  },
  {
   "cell_type": "code",
   "execution_count": 25,
   "id": "b10c9acd-b9c1-495b-b51d-1b3a3505145b",
   "metadata": {},
   "outputs": [
    {
     "data": {
      "text/html": [
       "<span class=\"tex2jax_ignore\"><div class=\"entities\" style=\"line-height: 2.5; direction: ltr\">\n",
       "<mark class=\"entity\" style=\"background: linear-gradient(90deg, #aa9cfc, #fc9ce7); padding: 0.45em 0.6em; margin: 0 0.25em; line-height: 1; border-radius: 0.35em;\">\n",
       "    Linear regression\n",
       "    <span style=\"font-size: 0.8em; font-weight: bold; line-height: 1; border-radius: 0.35em; vertical-align: middle; margin-left: 0.5rem\">ML_METHOD</span>\n",
       "</mark>\n",
       "<br>Daniel Hsu (COMS 4771)<br>Maximum likelihood estimation<br>One of the simplest \n",
       "<mark class=\"entity\" style=\"background: linear-gradient(90deg, #aa9cfc, #fc9ce7); padding: 0.45em 0.6em; margin: 0 0.25em; line-height: 1; border-radius: 0.35em;\">\n",
       "    linear regression\n",
       "    <span style=\"font-size: 0.8em; font-weight: bold; line-height: 1; border-radius: 0.35em; vertical-align: middle; margin-left: 0.5rem\">ML_METHOD</span>\n",
       "</mark>\n",
       " models is the following: (X1,Y1),..., (Xn,Yn),(X,Y)are iid random<br>pairs taking values in Rd×R, and<br>Y|X=x∼N(xTw,σ2),x∈Rd.<br></div></span>"
      ],
      "text/plain": [
       "<IPython.core.display.HTML object>"
      ]
     },
     "metadata": {},
     "output_type": "display_data"
    }
   ],
   "source": [
    "#displacy.render(filtered_doc, style=\"ent\", jupyter=True)  # Use jupyter=True if in a notebook\n",
    "\n",
    "options = {\"colors\": {\"ML_METHOD\": \"linear-gradient(90deg, #aa9cfc, #fc9ce7)\"}}\n",
    "displacy.render(filtered_doc, style=\"ent\", options=options, jupyter=True)"
   ]
  },
  {
   "cell_type": "code",
   "execution_count": null,
   "id": "d6b649f4-54a1-4925-afad-69bb57e00b44",
   "metadata": {},
   "outputs": [],
   "source": []
  }
 ],
 "metadata": {
  "kernelspec": {
   "display_name": "Python 3 (ipykernel)",
   "language": "python",
   "name": "python3"
  },
  "language_info": {
   "codemirror_mode": {
    "name": "ipython",
    "version": 3
   },
   "file_extension": ".py",
   "mimetype": "text/x-python",
   "name": "python",
   "nbconvert_exporter": "python",
   "pygments_lexer": "ipython3",
   "version": "3.12.2"
  }
 },
 "nbformat": 4,
 "nbformat_minor": 5
}
