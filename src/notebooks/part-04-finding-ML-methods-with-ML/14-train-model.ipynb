{
 "cells": [
  {
   "cell_type": "markdown",
   "id": "83ac214d-bef7-4fbb-9b44-aab3efa7ded2",
   "metadata": {},
   "source": [
    "### Create config file"
   ]
  },
  {
   "cell_type": "markdown",
   "id": "9ec10055-e984-4d1c-a7c5-3979c20e4368",
   "metadata": {},
   "source": [
    "Generate config.cfg file which supports the English language and has the Named Entity Recognition (ner) component"
   ]
  },
  {
   "cell_type": "code",
   "execution_count": 1,
   "id": "f75f2ada-5c4e-46e2-b05b-cd3fee08aa90",
   "metadata": {},
   "outputs": [
    {
     "name": "stdout",
     "output_type": "stream",
     "text": [
      "\u001b[38;5;3m⚠ To generate a more effective transformer-based config (GPU-only),\n",
      "install the spacy-transformers package and re-run this command. The config\n",
      "generated now does not use transformers.\u001b[0m\n",
      "\u001b[38;5;4mℹ Generated config template specific for your use case\u001b[0m\n",
      "- Language: en\n",
      "- Pipeline: ner\n",
      "- Optimize for: efficiency\n",
      "- Hardware: CPU\n",
      "- Transformer: None\n",
      "\u001b[38;5;2m✔ Auto-filled config with all values\u001b[0m\n",
      "\u001b[38;5;2m✔ Saved config\u001b[0m\n",
      "config.cfg\n",
      "You can now add your data and train your pipeline:\n",
      "python -m spacy train config.cfg --paths.train ./train.spacy --paths.dev ./dev.spacy\n"
     ]
    }
   ],
   "source": [
    "!python -m spacy init config ./config.cfg --lang en --pipeline ner --force"
   ]
  },
  {
   "cell_type": "markdown",
   "id": "784ef22a-5b47-4381-81b5-a791be08ffda",
   "metadata": {},
   "source": [
    "### Create and train the model"
   ]
  },
  {
   "cell_type": "markdown",
   "id": "a00d2d42-7f9a-450e-9dcd-4de424dd9cb6",
   "metadata": {},
   "source": [
    "Note: if there is not GPU available on the local machine, remove the parameter `--gpu-id 0` from the line below"
   ]
  },
  {
   "cell_type": "code",
   "execution_count": 3,
   "id": "ca1161c8-4e8e-4c25-88a2-dcb2850a38e8",
   "metadata": {},
   "outputs": [
    {
     "name": "stdout",
     "output_type": "stream",
     "text": [
      "\u001b[38;5;4mℹ Saving to output directory: output\u001b[0m\n",
      "\u001b[38;5;4mℹ Using GPU: 0\u001b[0m\n",
      "\u001b[1m\n",
      "=========================== Initializing pipeline ===========================\u001b[0m\n",
      "\u001b[38;5;2m✔ Initialized pipeline\u001b[0m\n",
      "\u001b[1m\n",
      "============================= Training pipeline =============================\u001b[0m\n",
      "\u001b[38;5;4mℹ Pipeline: ['tok2vec', 'ner']\u001b[0m\n",
      "\u001b[38;5;4mℹ Initial learn rate: 0.001\u001b[0m\n",
      "E    #       LOSS TOK2VEC  LOSS NER  ENTS_F  ENTS_P  ENTS_R  SCORE \n",
      "---  ------  ------------  --------  ------  ------  ------  ------\n",
      "  0       0          0.00     81.83    1.38    0.82    4.51    0.01\n",
      "  0     200         76.96   2209.05   88.31   90.35   86.36    0.88\n",
      "  0     400        105.76    386.21   94.54   96.10   93.04    0.95\n",
      "  0     600        126.80    275.77   94.58   95.91   93.29    0.95\n",
      "  0     800         96.86    191.79   96.69   97.49   95.90    0.97\n",
      "  0    1000        156.95    197.60   96.78   97.07   96.50    0.97\n",
      "  0    1200        129.72    130.11   97.14   98.24   96.07    0.97\n",
      "  0    1400        282.98    181.33   97.17   98.81   95.59    0.97\n",
      "  0    1600        146.59     94.86   97.44   97.97   96.92    0.97\n",
      "  0    1800        167.21    142.10   97.38   98.38   96.41    0.97\n",
      "  0    2000        279.96    159.52   97.61   97.53   97.69    0.98\n",
      "  0    2200        424.57    147.09   97.77   98.91   96.67    0.98\n",
      "  1    2400        358.08    169.42   98.09   98.96   97.24    0.98\n",
      "  1    2600        521.12    103.42   97.96   98.69   97.24    0.98\n",
      "  1    2800        279.66    104.88   98.37   99.44   97.33    0.98\n",
      "  1    3000       1018.12    134.11   98.20   98.67   97.73    0.98\n",
      "  1    3200        326.73    108.56   98.36   99.51   97.24    0.98\n",
      "  2    3400        310.61     47.13   98.43   99.59   97.29    0.98\n",
      "  2    3600        278.97     57.62   98.52   99.72   97.36    0.99\n",
      "  2    3800       1579.61     99.59   98.60   99.48   97.73    0.99\n",
      "  2    4000        152.95     38.57   98.47   99.46   97.49    0.98\n",
      "  3    4200        200.34     35.32   98.48   99.37   97.61    0.98\n",
      "  3    4400        291.40     42.08   98.49   99.60   97.40    0.98\n",
      "  3    4600        185.43     28.78   98.52   99.70   97.38    0.99\n",
      "  4    4800        454.00     78.98   98.42   99.53   97.34    0.98\n",
      "  4    5000        297.01     57.30   98.44   99.53   97.37    0.98\n",
      "  4    5200        494.20     60.55   98.42   99.43   97.44    0.98\n",
      "  4    5400        218.54     42.81   98.27   99.06   97.48    0.98\n",
      "\u001b[38;5;2m✔ Saved pipeline to output directory\u001b[0m\n",
      "output/model-last\n"
     ]
    }
   ],
   "source": [
    "!python -m spacy train config.cfg --gpu-id 0 --output ./output --paths.train ./train_detect_ml_models.spacy --paths.dev ./test_detect_ml_models.spacy"
   ]
  },
  {
   "cell_type": "markdown",
   "id": "e384b0ca-7570-40fc-928d-1b4e6133ad91",
   "metadata": {},
   "source": [
    "### Package the last model"
   ]
  },
  {
   "cell_type": "code",
   "execution_count": 3,
   "id": "0454638c-7b2d-45e1-a316-6eb79ff9273d",
   "metadata": {},
   "outputs": [],
   "source": [
    "!pip install build -q"
   ]
  },
  {
   "cell_type": "code",
   "execution_count": 2,
   "id": "31a42a97-dc72-4098-85ba-ccb1568bae3f",
   "metadata": {},
   "outputs": [],
   "source": [
    "!mkdir ./packages"
   ]
  },
  {
   "cell_type": "code",
   "execution_count": 3,
   "id": "f0a31cd6-5b52-4d53-b93b-d7561d44cadc",
   "metadata": {},
   "outputs": [
    {
     "name": "stdout",
     "output_type": "stream",
     "text": [
      "\u001b[38;5;4mℹ Building package artifacts: sdist\u001b[0m\n",
      "\u001b[38;5;2m✔ Including 1 package requirement(s) from meta and config\u001b[0m\n",
      "spacy>=3.8.2,<3.9.0\n",
      "\u001b[38;5;2m✔ Loaded meta.json from file\u001b[0m\n",
      "output/model-best/meta.json\n",
      "\u001b[38;5;2m✔ Generated README.md from meta.json\u001b[0m\n",
      "\u001b[38;5;2m✔ Successfully created package directory\n",
      "'en_ml_method_pipeline-1.0.0'\u001b[0m\n",
      "packages/en_ml_method_pipeline-1.0.0\n",
      "\u001b[1m* Creating isolated environment: venv+pip...\u001b[0m\n",
      "\u001b[1m* Installing packages in isolated environment:\u001b[0m\n",
      "  - setuptools >= 40.8.0\n",
      "\u001b[1m* Getting build dependencies for sdist...\u001b[0m\n",
      "running egg_info\n",
      "creating en_ml_method_pipeline.egg-info\n",
      "writing en_ml_method_pipeline.egg-info/PKG-INFO\n",
      "writing dependency_links to en_ml_method_pipeline.egg-info/dependency_links.txt\n",
      "writing entry points to en_ml_method_pipeline.egg-info/entry_points.txt\n",
      "writing requirements to en_ml_method_pipeline.egg-info/requires.txt\n",
      "writing top-level names to en_ml_method_pipeline.egg-info/top_level.txt\n",
      "writing manifest file 'en_ml_method_pipeline.egg-info/SOURCES.txt'\n",
      "reading manifest file 'en_ml_method_pipeline.egg-info/SOURCES.txt'\n",
      "reading manifest template 'MANIFEST.in'\n",
      "warning: no files found matching 'LICENSE'\n",
      "warning: no files found matching 'LICENSES_SOURCES'\n",
      "writing manifest file 'en_ml_method_pipeline.egg-info/SOURCES.txt'\n",
      "\u001b[1m* Building sdist...\u001b[0m\n",
      "running sdist\n",
      "running egg_info\n",
      "writing en_ml_method_pipeline.egg-info/PKG-INFO\n",
      "writing dependency_links to en_ml_method_pipeline.egg-info/dependency_links.txt\n",
      "writing entry points to en_ml_method_pipeline.egg-info/entry_points.txt\n",
      "writing requirements to en_ml_method_pipeline.egg-info/requires.txt\n",
      "writing top-level names to en_ml_method_pipeline.egg-info/top_level.txt\n",
      "reading manifest file 'en_ml_method_pipeline.egg-info/SOURCES.txt'\n",
      "reading manifest template 'MANIFEST.in'\n",
      "warning: no files found matching 'LICENSE'\n",
      "warning: no files found matching 'LICENSES_SOURCES'\n",
      "writing manifest file 'en_ml_method_pipeline.egg-info/SOURCES.txt'\n",
      "running check\n",
      "creating en_ml_method_pipeline-1.0.0\n",
      "creating en_ml_method_pipeline-1.0.0/en_ml_method_pipeline\n",
      "creating en_ml_method_pipeline-1.0.0/en_ml_method_pipeline.egg-info\n",
      "creating en_ml_method_pipeline-1.0.0/en_ml_method_pipeline/en_ml_method_pipeline-1.0.0\n",
      "creating en_ml_method_pipeline-1.0.0/en_ml_method_pipeline/en_ml_method_pipeline-1.0.0/ner\n",
      "creating en_ml_method_pipeline-1.0.0/en_ml_method_pipeline/en_ml_method_pipeline-1.0.0/tok2vec\n",
      "creating en_ml_method_pipeline-1.0.0/en_ml_method_pipeline/en_ml_method_pipeline-1.0.0/vocab\n",
      "copying files to en_ml_method_pipeline-1.0.0...\n",
      "copying MANIFEST.in -> en_ml_method_pipeline-1.0.0\n",
      "copying README.md -> en_ml_method_pipeline-1.0.0\n",
      "copying meta.json -> en_ml_method_pipeline-1.0.0\n",
      "copying setup.py -> en_ml_method_pipeline-1.0.0\n",
      "copying en_ml_method_pipeline/__init__.py -> en_ml_method_pipeline-1.0.0/en_ml_method_pipeline\n",
      "copying en_ml_method_pipeline/meta.json -> en_ml_method_pipeline-1.0.0/en_ml_method_pipeline\n",
      "copying en_ml_method_pipeline.egg-info/PKG-INFO -> en_ml_method_pipeline-1.0.0/en_ml_method_pipeline.egg-info\n",
      "copying en_ml_method_pipeline.egg-info/SOURCES.txt -> en_ml_method_pipeline-1.0.0/en_ml_method_pipeline.egg-info\n",
      "copying en_ml_method_pipeline.egg-info/dependency_links.txt -> en_ml_method_pipeline-1.0.0/en_ml_method_pipeline.egg-info\n",
      "copying en_ml_method_pipeline.egg-info/entry_points.txt -> en_ml_method_pipeline-1.0.0/en_ml_method_pipeline.egg-info\n",
      "copying en_ml_method_pipeline.egg-info/not-zip-safe -> en_ml_method_pipeline-1.0.0/en_ml_method_pipeline.egg-info\n",
      "copying en_ml_method_pipeline.egg-info/requires.txt -> en_ml_method_pipeline-1.0.0/en_ml_method_pipeline.egg-info\n",
      "copying en_ml_method_pipeline.egg-info/top_level.txt -> en_ml_method_pipeline-1.0.0/en_ml_method_pipeline.egg-info\n",
      "copying en_ml_method_pipeline/en_ml_method_pipeline-1.0.0/README.md -> en_ml_method_pipeline-1.0.0/en_ml_method_pipeline/en_ml_method_pipeline-1.0.0\n",
      "copying en_ml_method_pipeline/en_ml_method_pipeline-1.0.0/config.cfg -> en_ml_method_pipeline-1.0.0/en_ml_method_pipeline/en_ml_method_pipeline-1.0.0\n",
      "copying en_ml_method_pipeline/en_ml_method_pipeline-1.0.0/meta.json -> en_ml_method_pipeline-1.0.0/en_ml_method_pipeline/en_ml_method_pipeline-1.0.0\n",
      "copying en_ml_method_pipeline/en_ml_method_pipeline-1.0.0/tokenizer -> en_ml_method_pipeline-1.0.0/en_ml_method_pipeline/en_ml_method_pipeline-1.0.0\n",
      "copying en_ml_method_pipeline/en_ml_method_pipeline-1.0.0/ner/cfg -> en_ml_method_pipeline-1.0.0/en_ml_method_pipeline/en_ml_method_pipeline-1.0.0/ner\n",
      "copying en_ml_method_pipeline/en_ml_method_pipeline-1.0.0/ner/model -> en_ml_method_pipeline-1.0.0/en_ml_method_pipeline/en_ml_method_pipeline-1.0.0/ner\n",
      "copying en_ml_method_pipeline/en_ml_method_pipeline-1.0.0/ner/moves -> en_ml_method_pipeline-1.0.0/en_ml_method_pipeline/en_ml_method_pipeline-1.0.0/ner\n",
      "copying en_ml_method_pipeline/en_ml_method_pipeline-1.0.0/tok2vec/cfg -> en_ml_method_pipeline-1.0.0/en_ml_method_pipeline/en_ml_method_pipeline-1.0.0/tok2vec\n",
      "copying en_ml_method_pipeline/en_ml_method_pipeline-1.0.0/tok2vec/model -> en_ml_method_pipeline-1.0.0/en_ml_method_pipeline/en_ml_method_pipeline-1.0.0/tok2vec\n",
      "copying en_ml_method_pipeline/en_ml_method_pipeline-1.0.0/vocab/key2row -> en_ml_method_pipeline-1.0.0/en_ml_method_pipeline/en_ml_method_pipeline-1.0.0/vocab\n",
      "copying en_ml_method_pipeline/en_ml_method_pipeline-1.0.0/vocab/lookups.bin -> en_ml_method_pipeline-1.0.0/en_ml_method_pipeline/en_ml_method_pipeline-1.0.0/vocab\n",
      "copying en_ml_method_pipeline/en_ml_method_pipeline-1.0.0/vocab/strings.json -> en_ml_method_pipeline-1.0.0/en_ml_method_pipeline/en_ml_method_pipeline-1.0.0/vocab\n",
      "copying en_ml_method_pipeline/en_ml_method_pipeline-1.0.0/vocab/vectors -> en_ml_method_pipeline-1.0.0/en_ml_method_pipeline/en_ml_method_pipeline-1.0.0/vocab\n",
      "copying en_ml_method_pipeline/en_ml_method_pipeline-1.0.0/vocab/vectors.cfg -> en_ml_method_pipeline-1.0.0/en_ml_method_pipeline/en_ml_method_pipeline-1.0.0/vocab\n",
      "copying en_ml_method_pipeline.egg-info/SOURCES.txt -> en_ml_method_pipeline-1.0.0/en_ml_method_pipeline.egg-info\n",
      "Writing en_ml_method_pipeline-1.0.0/setup.cfg\n",
      "Creating tar archive\n",
      "removing 'en_ml_method_pipeline-1.0.0' (and everything under it)\n",
      "\u001b[1m\u001b[92mSuccessfully built \u001b[4men_ml_method_pipeline-1.0.0.tar.gz\u001b[0m\u001b[1m\u001b[92m\u001b[0m\n",
      "\u001b[38;5;2m✔ Successfully created zipped Python package\u001b[0m\n",
      "packages/en_ml_method_pipeline-1.0.0/dist/en_ml_method_pipeline-1.0.0.tar.gz\n"
     ]
    }
   ],
   "source": [
    "!python -m spacy package ./output/model-best ./packages --name ml_method_pipeline --version 1.0.0"
   ]
  },
  {
   "cell_type": "markdown",
   "id": "b043488f-4354-4c78-ad84-c53722b5f74a",
   "metadata": {},
   "source": [
    "### Install the new package"
   ]
  },
  {
   "cell_type": "code",
   "execution_count": 4,
   "id": "03fba255-5f0e-484b-95d3-48d7cddf30be",
   "metadata": {},
   "outputs": [],
   "source": [
    "%%bash\n",
    "cd ./packages/en_ml_method_pipeline-1.0.0/dist/\n",
    "pip install en_ml_method_pipeline-1.0.0.tar.gz -q"
   ]
  },
  {
   "cell_type": "markdown",
   "id": "2cad0d0b-5b86-4edd-9d19-7df335d03358",
   "metadata": {},
   "source": [
    "### Test loading of new pipeline package"
   ]
  },
  {
   "cell_type": "code",
   "execution_count": 1,
   "id": "a2f70e7f-c1c1-4357-b637-5e3d1cbc797d",
   "metadata": {},
   "outputs": [],
   "source": [
    "import spacy"
   ]
  },
  {
   "cell_type": "code",
   "execution_count": 2,
   "id": "02ff2bfd-b998-4ed0-b4fb-7028f5648ac1",
   "metadata": {},
   "outputs": [],
   "source": [
    "nlp = spacy.load('en_ml_method_pipeline')"
   ]
  },
  {
   "cell_type": "code",
   "execution_count": null,
   "id": "2c4bb61f-b6b5-4485-a134-1c09934f584c",
   "metadata": {},
   "outputs": [],
   "source": []
  }
 ],
 "metadata": {
  "kernelspec": {
   "display_name": "Python 3 (ipykernel)",
   "language": "python",
   "name": "python3"
  },
  "language_info": {
   "codemirror_mode": {
    "name": "ipython",
    "version": 3
   },
   "file_extension": ".py",
   "mimetype": "text/x-python",
   "name": "python",
   "nbconvert_exporter": "python",
   "pygments_lexer": "ipython3",
   "version": "3.12.2"
  }
 },
 "nbformat": 4,
 "nbformat_minor": 5
}
