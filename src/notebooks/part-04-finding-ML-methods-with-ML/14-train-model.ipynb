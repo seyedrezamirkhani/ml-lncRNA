{
 "cells": [
  {
   "cell_type": "markdown",
   "id": "9a48cf7c-d6ac-4ea7-b758-db2d6830ab9e",
   "metadata": {},
   "source": [
    "The base_config.cfg has been generated from https://spacy.io/usage/training#quickstart\n",
    "\n",
    "Choosing the options:\n",
    "\n",
    "- Language\n",
    "  - English\n",
    "- Components\n",
    "  - ner\n",
    "- Hardware\n",
    "  - CPU\n",
    "- Optimize for\n",
    "  - accuracy"
   ]
  },
  {
   "cell_type": "markdown",
   "id": "2166e4ab-d662-4ce1-852b-89b47732ace4",
   "metadata": {},
   "source": [
    "# Generate config.cfg"
   ]
  },
  {
   "cell_type": "code",
   "execution_count": 2,
   "id": "9a757725-abdf-4658-95c7-07e8040eebb6",
   "metadata": {},
   "outputs": [
    {
     "name": "stdout",
     "output_type": "stream",
     "text": [
      "\u001b[38;5;2m✔ Auto-filled config with all values\u001b[0m\n",
      "\u001b[38;5;2m✔ Saved config\u001b[0m\n",
      "config.cfg\n",
      "You can now add your data and train your pipeline:\n",
      "python -m spacy train config.cfg --paths.train ./train.spacy --paths.dev ./dev.spacy\n"
     ]
    }
   ],
   "source": [
    "!python -m spacy init fill-config base_config.cfg config.cfg"
   ]
  },
  {
   "cell_type": "code",
   "execution_count": 5,
   "id": "f75f2ada-5c4e-46e2-b05b-cd3fee08aa90",
   "metadata": {},
   "outputs": [
    {
     "name": "stdout",
     "output_type": "stream",
     "text": [
      "\u001b[38;5;3m⚠ To generate a more effective transformer-based config (GPU-only),\n",
      "install the spacy-transformers package and re-run this command. The config\n",
      "generated now does not use transformers.\u001b[0m\n",
      "\u001b[38;5;4mℹ Generated config template specific for your use case\u001b[0m\n",
      "- Language: en\n",
      "- Pipeline: ner\n",
      "- Optimize for: efficiency\n",
      "- Hardware: CPU\n",
      "- Transformer: None\n",
      "\u001b[38;5;2m✔ Auto-filled config with all values\u001b[0m\n",
      "\u001b[38;5;2m✔ Saved config\u001b[0m\n",
      "config.cfg\n",
      "You can now add your data and train your pipeline:\n",
      "python -m spacy train config.cfg --paths.train ./train.spacy --paths.dev ./dev.spacy\n"
     ]
    }
   ],
   "source": [
    "!python -m spacy init config ./config.cfg --lang en --pipeline ner --force"
   ]
  },
  {
   "cell_type": "markdown",
   "id": "784ef22a-5b47-4381-81b5-a791be08ffda",
   "metadata": {},
   "source": [
    "# Train and test"
   ]
  },
  {
   "cell_type": "code",
   "execution_count": 6,
   "id": "ca1161c8-4e8e-4c25-88a2-dcb2850a38e8",
   "metadata": {},
   "outputs": [
    {
     "name": "stdout",
     "output_type": "stream",
     "text": [
      "\u001b[38;5;4mℹ Saving to output directory: output\u001b[0m\n",
      "\u001b[38;5;4mℹ Using CPU\u001b[0m\n",
      "\u001b[38;5;4mℹ To switch to GPU 0, use the option: --gpu-id 0\u001b[0m\n",
      "\u001b[1m\n",
      "=========================== Initializing pipeline ===========================\u001b[0m\n",
      "\u001b[38;5;2m✔ Initialized pipeline\u001b[0m\n",
      "\u001b[1m\n",
      "============================= Training pipeline =============================\u001b[0m\n",
      "\u001b[38;5;4mℹ Pipeline: ['tok2vec', 'ner']\u001b[0m\n",
      "\u001b[38;5;4mℹ Initial learn rate: 0.001\u001b[0m\n",
      "E    #       LOSS TOK2VEC  LOSS NER  ENTS_F  ENTS_P  ENTS_R  SCORE \n",
      "---  ------  ------------  --------  ------  ------  ------  ------\n",
      "  0       0          0.00     81.83    4.56    2.43   36.18    0.05\n",
      "  0     200         75.11   2212.25   89.24   92.05   86.60    0.89\n",
      "  0     400        102.94    351.87   94.18   95.60   92.81    0.94\n",
      "  0     600        140.53    300.27   90.46   95.14   86.22    0.90\n",
      "  0     800        102.50    194.87   96.15   96.27   96.03    0.96\n",
      "  0    1000        149.63    174.94   95.78   95.71   95.86    0.96\n",
      "  0    1200        172.50    205.33   97.15   98.69   95.65    0.97\n",
      "  0    1400        221.56    156.39   97.19   98.84   95.60    0.97\n",
      "  0    1600        135.43     92.76   97.95   98.80   97.11    0.98\n",
      "  0    1800        191.23    135.67   97.59   99.11   96.12    0.98\n",
      "  0    2000        278.37    149.95   98.13   98.99   97.30    0.98\n",
      "  0    2200        187.27    117.17   97.94   99.25   96.66    0.98\n",
      "  1    2400        305.61    161.92   98.32   99.59   97.08    0.98\n",
      "  1    2600        374.28     96.06   97.82   99.09   96.59    0.98\n",
      "  1    2800        292.69    125.51   98.41   99.43   97.42    0.98\n",
      "  1    3000       2725.43    157.15   98.29   99.16   97.43    0.98\n",
      "  1    3200        290.20    117.87   98.35   99.51   97.23    0.98\n",
      "  2    3400        204.73     60.66   98.47   99.59   97.37    0.98\n",
      "  2    3600        188.07     52.61   98.45   99.50   97.42    0.98\n",
      "  2    3800        357.90     72.71   98.49   99.56   97.45    0.98\n",
      "  2    4000        546.20     71.98   98.29   99.54   97.07    0.98\n",
      "  3    4200        234.14     63.30   98.41   99.46   97.38    0.98\n",
      "  3    4400        655.90     73.88   98.42   99.37   97.49    0.98\n",
      "  3    4600        160.16     44.08   98.54   99.60   97.50    0.99\n",
      "  4    4800        188.30     51.22   98.46   99.46   97.47    0.98\n",
      "  4    5000        190.99     26.23   98.37   99.41   97.35    0.98\n",
      "  4    5200        366.32     66.89   98.46   99.48   97.46    0.98\n",
      "  4    5400        314.69     41.42   98.52   99.51   97.55    0.99\n",
      "  5    5600        140.77     29.44   98.30   99.29   97.32    0.98\n",
      "  5    5800        161.94     27.84   98.59   99.70   97.51    0.99\n",
      "  5    6000        298.65     54.51   98.40   99.34   97.48    0.98\n",
      "  5    6200        191.84     39.56   98.34   99.37   97.33    0.98\n",
      "  6    6400        183.30     40.19   98.57   99.65   97.50    0.99\n",
      "  6    6600        232.35     43.83   98.51   99.47   97.56    0.99\n",
      "  6    6800        292.70     19.50   98.54   99.65   97.47    0.99\n",
      "  6    7000        133.98     22.28   98.48   99.38   97.59    0.98\n",
      "  7    7200        155.89     27.85   98.53   99.61   97.48    0.99\n",
      "  7    7400        166.74     30.34   98.56   99.55   97.60    0.99\n",
      "\u001b[38;5;2m✔ Saved pipeline to output directory\u001b[0m\n",
      "output/model-last\n"
     ]
    }
   ],
   "source": [
    "!python -m spacy train config.cfg --output ./output --paths.train ./train_detect_ml_models.spacy --paths.dev ./test_detect_ml_models.spacy"
   ]
  },
  {
   "cell_type": "code",
   "execution_count": null,
   "id": "f0a31cd6-5b52-4d53-b93b-d7561d44cadc",
   "metadata": {},
   "outputs": [],
   "source": []
  }
 ],
 "metadata": {
  "kernelspec": {
   "display_name": "Python 3 (ipykernel)",
   "language": "python",
   "name": "python3"
  },
  "language_info": {
   "codemirror_mode": {
    "name": "ipython",
    "version": 3
   },
   "file_extension": ".py",
   "mimetype": "text/x-python",
   "name": "python",
   "nbconvert_exporter": "python",
   "pygments_lexer": "ipython3",
   "version": "3.12.2"
  }
 },
 "nbformat": 4,
 "nbformat_minor": 5
}
